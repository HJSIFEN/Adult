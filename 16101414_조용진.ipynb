{
 "cells": [
  {
   "cell_type": "markdown",
   "metadata": {},
   "source": [
    "컴퓨터공학과 16101414 조용진"
   ]
  },
  {
   "cell_type": "raw",
   "metadata": {},
   "source": [
    "`1참고 : https://jjeongil.tistory.com/950"
   ]
  },
  {
   "cell_type": "code",
   "execution_count": 148,
   "metadata": {},
   "outputs": [
    {
     "name": "stderr",
     "output_type": "stream",
     "text": [
      "<ipython-input-148-6173803f6b15>:8: ParserWarning: Falling back to the 'python' engine because the 'c' engine does not support regex separators (separators > 1 char and different from '\\s+' are interpreted as regex); you can avoid this warning by specifying engine='python'.\n",
      "  train_data = pd.read_csv('data/adult.data', names=columns,\n",
      "<ipython-input-148-6173803f6b15>:10: ParserWarning: Falling back to the 'python' engine because the 'c' engine does not support regex separators (separators > 1 char and different from '\\s+' are interpreted as regex); you can avoid this warning by specifying engine='python'.\n",
      "  test_data  = pd.read_csv('data/adult.test', names=columns,\n"
     ]
    }
   ],
   "source": [
    "import pandas as pd\n",
    "import os\n",
    "import matplotlib.pyplot as plt\n",
    "\n",
    "\n",
    "columns = [\"age\", \"workClass\", \"fnlwgt\", \"education\", \"education-num\",\"marital-status\", \"occupation\", \"relationship\",\n",
    "          \"race\", \"sex\", \"capital-gain\", \"capital-loss\", \"hours-per-week\", \"native-country\", \"income\"]\n",
    "train_data = pd.read_csv('data/adult.data', names=columns, \n",
    "             sep=' *, *', na_values='?')\n",
    "test_data  = pd.read_csv('data/adult.test', names=columns, \n",
    "             sep=' *, *', skiprows=1, na_values='?')"
   ]
  },
  {
   "cell_type": "code",
   "execution_count": 149,
   "metadata": {},
   "outputs": [
    {
     "data": {
      "text/html": [
       "<div>\n",
       "<style scoped>\n",
       "    .dataframe tbody tr th:only-of-type {\n",
       "        vertical-align: middle;\n",
       "    }\n",
       "\n",
       "    .dataframe tbody tr th {\n",
       "        vertical-align: top;\n",
       "    }\n",
       "\n",
       "    .dataframe thead th {\n",
       "        text-align: right;\n",
       "    }\n",
       "</style>\n",
       "<table border=\"1\" class=\"dataframe\">\n",
       "  <thead>\n",
       "    <tr style=\"text-align: right;\">\n",
       "      <th></th>\n",
       "      <th>age</th>\n",
       "      <th>workClass</th>\n",
       "      <th>fnlwgt</th>\n",
       "      <th>education</th>\n",
       "      <th>education-num</th>\n",
       "      <th>marital-status</th>\n",
       "      <th>occupation</th>\n",
       "      <th>relationship</th>\n",
       "      <th>race</th>\n",
       "      <th>sex</th>\n",
       "      <th>capital-gain</th>\n",
       "      <th>capital-loss</th>\n",
       "      <th>hours-per-week</th>\n",
       "      <th>native-country</th>\n",
       "      <th>income</th>\n",
       "    </tr>\n",
       "  </thead>\n",
       "  <tbody>\n",
       "    <tr>\n",
       "      <th>0</th>\n",
       "      <td>39</td>\n",
       "      <td>State-gov</td>\n",
       "      <td>77516</td>\n",
       "      <td>Bachelors</td>\n",
       "      <td>13</td>\n",
       "      <td>Never-married</td>\n",
       "      <td>Adm-clerical</td>\n",
       "      <td>Not-in-family</td>\n",
       "      <td>White</td>\n",
       "      <td>Male</td>\n",
       "      <td>2174</td>\n",
       "      <td>0</td>\n",
       "      <td>40</td>\n",
       "      <td>United-States</td>\n",
       "      <td>&lt;=50K</td>\n",
       "    </tr>\n",
       "    <tr>\n",
       "      <th>1</th>\n",
       "      <td>50</td>\n",
       "      <td>Self-emp-not-inc</td>\n",
       "      <td>83311</td>\n",
       "      <td>Bachelors</td>\n",
       "      <td>13</td>\n",
       "      <td>Married-civ-spouse</td>\n",
       "      <td>Exec-managerial</td>\n",
       "      <td>Husband</td>\n",
       "      <td>White</td>\n",
       "      <td>Male</td>\n",
       "      <td>0</td>\n",
       "      <td>0</td>\n",
       "      <td>13</td>\n",
       "      <td>United-States</td>\n",
       "      <td>&lt;=50K</td>\n",
       "    </tr>\n",
       "    <tr>\n",
       "      <th>2</th>\n",
       "      <td>38</td>\n",
       "      <td>Private</td>\n",
       "      <td>215646</td>\n",
       "      <td>HS-grad</td>\n",
       "      <td>9</td>\n",
       "      <td>Divorced</td>\n",
       "      <td>Handlers-cleaners</td>\n",
       "      <td>Not-in-family</td>\n",
       "      <td>White</td>\n",
       "      <td>Male</td>\n",
       "      <td>0</td>\n",
       "      <td>0</td>\n",
       "      <td>40</td>\n",
       "      <td>United-States</td>\n",
       "      <td>&lt;=50K</td>\n",
       "    </tr>\n",
       "    <tr>\n",
       "      <th>3</th>\n",
       "      <td>53</td>\n",
       "      <td>Private</td>\n",
       "      <td>234721</td>\n",
       "      <td>11th</td>\n",
       "      <td>7</td>\n",
       "      <td>Married-civ-spouse</td>\n",
       "      <td>Handlers-cleaners</td>\n",
       "      <td>Husband</td>\n",
       "      <td>Black</td>\n",
       "      <td>Male</td>\n",
       "      <td>0</td>\n",
       "      <td>0</td>\n",
       "      <td>40</td>\n",
       "      <td>United-States</td>\n",
       "      <td>&lt;=50K</td>\n",
       "    </tr>\n",
       "    <tr>\n",
       "      <th>4</th>\n",
       "      <td>28</td>\n",
       "      <td>Private</td>\n",
       "      <td>338409</td>\n",
       "      <td>Bachelors</td>\n",
       "      <td>13</td>\n",
       "      <td>Married-civ-spouse</td>\n",
       "      <td>Prof-specialty</td>\n",
       "      <td>Wife</td>\n",
       "      <td>Black</td>\n",
       "      <td>Female</td>\n",
       "      <td>0</td>\n",
       "      <td>0</td>\n",
       "      <td>40</td>\n",
       "      <td>Cuba</td>\n",
       "      <td>&lt;=50K</td>\n",
       "    </tr>\n",
       "  </tbody>\n",
       "</table>\n",
       "</div>"
      ],
      "text/plain": [
       "   age         workClass  fnlwgt  education  education-num  \\\n",
       "0   39         State-gov   77516  Bachelors             13   \n",
       "1   50  Self-emp-not-inc   83311  Bachelors             13   \n",
       "2   38           Private  215646    HS-grad              9   \n",
       "3   53           Private  234721       11th              7   \n",
       "4   28           Private  338409  Bachelors             13   \n",
       "\n",
       "       marital-status         occupation   relationship   race     sex  \\\n",
       "0       Never-married       Adm-clerical  Not-in-family  White    Male   \n",
       "1  Married-civ-spouse    Exec-managerial        Husband  White    Male   \n",
       "2            Divorced  Handlers-cleaners  Not-in-family  White    Male   \n",
       "3  Married-civ-spouse  Handlers-cleaners        Husband  Black    Male   \n",
       "4  Married-civ-spouse     Prof-specialty           Wife  Black  Female   \n",
       "\n",
       "   capital-gain  capital-loss  hours-per-week native-country income  \n",
       "0          2174             0              40  United-States  <=50K  \n",
       "1             0             0              13  United-States  <=50K  \n",
       "2             0             0              40  United-States  <=50K  \n",
       "3             0             0              40  United-States  <=50K  \n",
       "4             0             0              40           Cuba  <=50K  "
      ]
     },
     "execution_count": 149,
     "metadata": {},
     "output_type": "execute_result"
    }
   ],
   "source": [
    "train_data.head()"
   ]
  },
  {
   "cell_type": "code",
   "execution_count": 150,
   "metadata": {
    "scrolled": true
   },
   "outputs": [
    {
     "data": {
      "text/html": [
       "<div>\n",
       "<style scoped>\n",
       "    .dataframe tbody tr th:only-of-type {\n",
       "        vertical-align: middle;\n",
       "    }\n",
       "\n",
       "    .dataframe tbody tr th {\n",
       "        vertical-align: top;\n",
       "    }\n",
       "\n",
       "    .dataframe thead th {\n",
       "        text-align: right;\n",
       "    }\n",
       "</style>\n",
       "<table border=\"1\" class=\"dataframe\">\n",
       "  <thead>\n",
       "    <tr style=\"text-align: right;\">\n",
       "      <th></th>\n",
       "      <th>age</th>\n",
       "      <th>workClass</th>\n",
       "      <th>fnlwgt</th>\n",
       "      <th>education</th>\n",
       "      <th>education-num</th>\n",
       "      <th>marital-status</th>\n",
       "      <th>occupation</th>\n",
       "      <th>relationship</th>\n",
       "      <th>race</th>\n",
       "      <th>sex</th>\n",
       "      <th>capital-gain</th>\n",
       "      <th>capital-loss</th>\n",
       "      <th>hours-per-week</th>\n",
       "      <th>native-country</th>\n",
       "      <th>income</th>\n",
       "    </tr>\n",
       "  </thead>\n",
       "  <tbody>\n",
       "    <tr>\n",
       "      <th>0</th>\n",
       "      <td>25</td>\n",
       "      <td>Private</td>\n",
       "      <td>226802</td>\n",
       "      <td>11th</td>\n",
       "      <td>7</td>\n",
       "      <td>Never-married</td>\n",
       "      <td>Machine-op-inspct</td>\n",
       "      <td>Own-child</td>\n",
       "      <td>Black</td>\n",
       "      <td>Male</td>\n",
       "      <td>0</td>\n",
       "      <td>0</td>\n",
       "      <td>40</td>\n",
       "      <td>United-States</td>\n",
       "      <td>&lt;=50K.</td>\n",
       "    </tr>\n",
       "    <tr>\n",
       "      <th>1</th>\n",
       "      <td>38</td>\n",
       "      <td>Private</td>\n",
       "      <td>89814</td>\n",
       "      <td>HS-grad</td>\n",
       "      <td>9</td>\n",
       "      <td>Married-civ-spouse</td>\n",
       "      <td>Farming-fishing</td>\n",
       "      <td>Husband</td>\n",
       "      <td>White</td>\n",
       "      <td>Male</td>\n",
       "      <td>0</td>\n",
       "      <td>0</td>\n",
       "      <td>50</td>\n",
       "      <td>United-States</td>\n",
       "      <td>&lt;=50K.</td>\n",
       "    </tr>\n",
       "    <tr>\n",
       "      <th>2</th>\n",
       "      <td>28</td>\n",
       "      <td>Local-gov</td>\n",
       "      <td>336951</td>\n",
       "      <td>Assoc-acdm</td>\n",
       "      <td>12</td>\n",
       "      <td>Married-civ-spouse</td>\n",
       "      <td>Protective-serv</td>\n",
       "      <td>Husband</td>\n",
       "      <td>White</td>\n",
       "      <td>Male</td>\n",
       "      <td>0</td>\n",
       "      <td>0</td>\n",
       "      <td>40</td>\n",
       "      <td>United-States</td>\n",
       "      <td>&gt;50K.</td>\n",
       "    </tr>\n",
       "    <tr>\n",
       "      <th>3</th>\n",
       "      <td>44</td>\n",
       "      <td>Private</td>\n",
       "      <td>160323</td>\n",
       "      <td>Some-college</td>\n",
       "      <td>10</td>\n",
       "      <td>Married-civ-spouse</td>\n",
       "      <td>Machine-op-inspct</td>\n",
       "      <td>Husband</td>\n",
       "      <td>Black</td>\n",
       "      <td>Male</td>\n",
       "      <td>7688</td>\n",
       "      <td>0</td>\n",
       "      <td>40</td>\n",
       "      <td>United-States</td>\n",
       "      <td>&gt;50K.</td>\n",
       "    </tr>\n",
       "    <tr>\n",
       "      <th>4</th>\n",
       "      <td>18</td>\n",
       "      <td>NaN</td>\n",
       "      <td>103497</td>\n",
       "      <td>Some-college</td>\n",
       "      <td>10</td>\n",
       "      <td>Never-married</td>\n",
       "      <td>NaN</td>\n",
       "      <td>Own-child</td>\n",
       "      <td>White</td>\n",
       "      <td>Female</td>\n",
       "      <td>0</td>\n",
       "      <td>0</td>\n",
       "      <td>30</td>\n",
       "      <td>United-States</td>\n",
       "      <td>&lt;=50K.</td>\n",
       "    </tr>\n",
       "  </tbody>\n",
       "</table>\n",
       "</div>"
      ],
      "text/plain": [
       "   age  workClass  fnlwgt     education  education-num      marital-status  \\\n",
       "0   25    Private  226802          11th              7       Never-married   \n",
       "1   38    Private   89814       HS-grad              9  Married-civ-spouse   \n",
       "2   28  Local-gov  336951    Assoc-acdm             12  Married-civ-spouse   \n",
       "3   44    Private  160323  Some-college             10  Married-civ-spouse   \n",
       "4   18        NaN  103497  Some-college             10       Never-married   \n",
       "\n",
       "          occupation relationship   race     sex  capital-gain  capital-loss  \\\n",
       "0  Machine-op-inspct    Own-child  Black    Male             0             0   \n",
       "1    Farming-fishing      Husband  White    Male             0             0   \n",
       "2    Protective-serv      Husband  White    Male             0             0   \n",
       "3  Machine-op-inspct      Husband  Black    Male          7688             0   \n",
       "4                NaN    Own-child  White  Female             0             0   \n",
       "\n",
       "   hours-per-week native-country  income  \n",
       "0              40  United-States  <=50K.  \n",
       "1              50  United-States  <=50K.  \n",
       "2              40  United-States   >50K.  \n",
       "3              40  United-States   >50K.  \n",
       "4              30  United-States  <=50K.  "
      ]
     },
     "execution_count": 150,
     "metadata": {},
     "output_type": "execute_result"
    }
   ],
   "source": [
    "test_data.head()"
   ]
  },
  {
   "cell_type": "code",
   "execution_count": 151,
   "metadata": {},
   "outputs": [
    {
     "name": "stdout",
     "output_type": "stream",
     "text": [
      "<class 'pandas.core.frame.DataFrame'>\n",
      "RangeIndex: 32561 entries, 0 to 32560\n",
      "Data columns (total 15 columns):\n",
      " #   Column          Non-Null Count  Dtype \n",
      "---  ------          --------------  ----- \n",
      " 0   age             32561 non-null  int64 \n",
      " 1   workClass       30725 non-null  object\n",
      " 2   fnlwgt          32561 non-null  int64 \n",
      " 3   education       32561 non-null  object\n",
      " 4   education-num   32561 non-null  int64 \n",
      " 5   marital-status  32561 non-null  object\n",
      " 6   occupation      30718 non-null  object\n",
      " 7   relationship    32561 non-null  object\n",
      " 8   race            32561 non-null  object\n",
      " 9   sex             32561 non-null  object\n",
      " 10  capital-gain    32561 non-null  int64 \n",
      " 11  capital-loss    32561 non-null  int64 \n",
      " 12  hours-per-week  32561 non-null  int64 \n",
      " 13  native-country  31978 non-null  object\n",
      " 14  income          32561 non-null  object\n",
      "dtypes: int64(6), object(9)\n",
      "memory usage: 3.7+ MB\n"
     ]
    }
   ],
   "source": [
    "train_data.info()"
   ]
  },
  {
   "cell_type": "markdown",
   "metadata": {},
   "source": [
    "- 32561개의 훈련데이터세트\n",
    "- workClass, opccuptation, native-country 에 결측치가 있음"
   ]
  },
  {
   "cell_type": "code",
   "execution_count": 152,
   "metadata": {
    "scrolled": false
   },
   "outputs": [
    {
     "name": "stdout",
     "output_type": "stream",
     "text": [
      "<class 'pandas.core.frame.DataFrame'>\n",
      "RangeIndex: 16281 entries, 0 to 16280\n",
      "Data columns (total 15 columns):\n",
      " #   Column          Non-Null Count  Dtype \n",
      "---  ------          --------------  ----- \n",
      " 0   age             16281 non-null  int64 \n",
      " 1   workClass       15318 non-null  object\n",
      " 2   fnlwgt          16281 non-null  int64 \n",
      " 3   education       16281 non-null  object\n",
      " 4   education-num   16281 non-null  int64 \n",
      " 5   marital-status  16281 non-null  object\n",
      " 6   occupation      15315 non-null  object\n",
      " 7   relationship    16281 non-null  object\n",
      " 8   race            16281 non-null  object\n",
      " 9   sex             16281 non-null  object\n",
      " 10  capital-gain    16281 non-null  int64 \n",
      " 11  capital-loss    16281 non-null  int64 \n",
      " 12  hours-per-week  16281 non-null  int64 \n",
      " 13  native-country  16007 non-null  object\n",
      " 14  income          16281 non-null  object\n",
      "dtypes: int64(6), object(9)\n",
      "memory usage: 1.9+ MB\n"
     ]
    }
   ],
   "source": [
    "test_data.info()"
   ]
  },
  {
   "cell_type": "markdown",
   "metadata": {},
   "source": [
    "- 16281개의 데이터\n",
    "- 결측치 workClass, occupation, native-country"
   ]
  },
  {
   "cell_type": "markdown",
   "metadata": {},
   "source": [
    "## -Descriptive statistics 기술통계"
   ]
  },
  {
   "cell_type": "code",
   "execution_count": 153,
   "metadata": {},
   "outputs": [
    {
     "data": {
      "text/html": [
       "<div>\n",
       "<style scoped>\n",
       "    .dataframe tbody tr th:only-of-type {\n",
       "        vertical-align: middle;\n",
       "    }\n",
       "\n",
       "    .dataframe tbody tr th {\n",
       "        vertical-align: top;\n",
       "    }\n",
       "\n",
       "    .dataframe thead th {\n",
       "        text-align: right;\n",
       "    }\n",
       "</style>\n",
       "<table border=\"1\" class=\"dataframe\">\n",
       "  <thead>\n",
       "    <tr style=\"text-align: right;\">\n",
       "      <th></th>\n",
       "      <th>age</th>\n",
       "      <th>fnlwgt</th>\n",
       "      <th>education-num</th>\n",
       "      <th>capital-gain</th>\n",
       "      <th>capital-loss</th>\n",
       "      <th>hours-per-week</th>\n",
       "    </tr>\n",
       "  </thead>\n",
       "  <tbody>\n",
       "    <tr>\n",
       "      <th>count</th>\n",
       "      <td>32561.000000</td>\n",
       "      <td>3.256100e+04</td>\n",
       "      <td>32561.000000</td>\n",
       "      <td>32561.000000</td>\n",
       "      <td>32561.000000</td>\n",
       "      <td>32561.000000</td>\n",
       "    </tr>\n",
       "    <tr>\n",
       "      <th>mean</th>\n",
       "      <td>38.581647</td>\n",
       "      <td>1.897784e+05</td>\n",
       "      <td>10.080679</td>\n",
       "      <td>1077.648844</td>\n",
       "      <td>87.303830</td>\n",
       "      <td>40.437456</td>\n",
       "    </tr>\n",
       "    <tr>\n",
       "      <th>std</th>\n",
       "      <td>13.640433</td>\n",
       "      <td>1.055500e+05</td>\n",
       "      <td>2.572720</td>\n",
       "      <td>7385.292085</td>\n",
       "      <td>402.960219</td>\n",
       "      <td>12.347429</td>\n",
       "    </tr>\n",
       "    <tr>\n",
       "      <th>min</th>\n",
       "      <td>17.000000</td>\n",
       "      <td>1.228500e+04</td>\n",
       "      <td>1.000000</td>\n",
       "      <td>0.000000</td>\n",
       "      <td>0.000000</td>\n",
       "      <td>1.000000</td>\n",
       "    </tr>\n",
       "    <tr>\n",
       "      <th>25%</th>\n",
       "      <td>28.000000</td>\n",
       "      <td>1.178270e+05</td>\n",
       "      <td>9.000000</td>\n",
       "      <td>0.000000</td>\n",
       "      <td>0.000000</td>\n",
       "      <td>40.000000</td>\n",
       "    </tr>\n",
       "    <tr>\n",
       "      <th>50%</th>\n",
       "      <td>37.000000</td>\n",
       "      <td>1.783560e+05</td>\n",
       "      <td>10.000000</td>\n",
       "      <td>0.000000</td>\n",
       "      <td>0.000000</td>\n",
       "      <td>40.000000</td>\n",
       "    </tr>\n",
       "    <tr>\n",
       "      <th>75%</th>\n",
       "      <td>48.000000</td>\n",
       "      <td>2.370510e+05</td>\n",
       "      <td>12.000000</td>\n",
       "      <td>0.000000</td>\n",
       "      <td>0.000000</td>\n",
       "      <td>45.000000</td>\n",
       "    </tr>\n",
       "    <tr>\n",
       "      <th>max</th>\n",
       "      <td>90.000000</td>\n",
       "      <td>1.484705e+06</td>\n",
       "      <td>16.000000</td>\n",
       "      <td>99999.000000</td>\n",
       "      <td>4356.000000</td>\n",
       "      <td>99.000000</td>\n",
       "    </tr>\n",
       "  </tbody>\n",
       "</table>\n",
       "</div>"
      ],
      "text/plain": [
       "                age        fnlwgt  education-num  capital-gain  capital-loss  \\\n",
       "count  32561.000000  3.256100e+04   32561.000000  32561.000000  32561.000000   \n",
       "mean      38.581647  1.897784e+05      10.080679   1077.648844     87.303830   \n",
       "std       13.640433  1.055500e+05       2.572720   7385.292085    402.960219   \n",
       "min       17.000000  1.228500e+04       1.000000      0.000000      0.000000   \n",
       "25%       28.000000  1.178270e+05       9.000000      0.000000      0.000000   \n",
       "50%       37.000000  1.783560e+05      10.000000      0.000000      0.000000   \n",
       "75%       48.000000  2.370510e+05      12.000000      0.000000      0.000000   \n",
       "max       90.000000  1.484705e+06      16.000000  99999.000000   4356.000000   \n",
       "\n",
       "       hours-per-week  \n",
       "count    32561.000000  \n",
       "mean        40.437456  \n",
       "std         12.347429  \n",
       "min          1.000000  \n",
       "25%         40.000000  \n",
       "50%         40.000000  \n",
       "75%         45.000000  \n",
       "max         99.000000  "
      ]
     },
     "execution_count": 153,
     "metadata": {},
     "output_type": "execute_result"
    }
   ],
   "source": [
    "train_data.describe()"
   ]
  },
  {
   "cell_type": "code",
   "execution_count": 154,
   "metadata": {},
   "outputs": [
    {
     "name": "stdout",
     "output_type": "stream",
     "text": [
      "Index(['age', 'fnlwgt', 'education-num', 'capital-gain', 'capital-loss',\n",
      "       'hours-per-week'],\n",
      "      dtype='object')\n"
     ]
    }
   ],
   "source": [
    "num_attributes = train_data.select_dtypes(include=['int64'])\n",
    "print(num_attributes.columns)"
   ]
  },
  {
   "cell_type": "code",
   "execution_count": 155,
   "metadata": {},
   "outputs": [
    {
     "name": "stdout",
     "output_type": "stream",
     "text": [
      "Index(['workClass', 'education', 'marital-status', 'occupation',\n",
      "       'relationship', 'race', 'sex', 'native-country', 'income'],\n",
      "      dtype='object')\n"
     ]
    }
   ],
   "source": [
    "cat_attributes = train_data.select_dtypes(include=['object'])\n",
    "print(cat_attributes.columns)"
   ]
  },
  {
   "cell_type": "raw",
   "metadata": {},
   "source": [
    "week4 : matplotlib\n",
    "week5 : 결측치 처리\n",
    "week8 : 회귀분석"
   ]
  },
  {
   "cell_type": "markdown",
   "metadata": {},
   "source": [
    "## -Univariate analysis (frequency table, histogram, boxplot, etc.) 단변량분석 (빈도테이블, 히스토그램, 박스플랏)"
   ]
  },
  {
   "cell_type": "markdown",
   "metadata": {},
   "source": [
    "### 양적변수"
   ]
  },
  {
   "cell_type": "code",
   "execution_count": 156,
   "metadata": {
    "scrolled": true
   },
   "outputs": [
    {
     "data": {
      "text/plain": [
       "array([[<AxesSubplot:title={'center':'age'}>,\n",
       "        <AxesSubplot:title={'center':'fnlwgt'}>],\n",
       "       [<AxesSubplot:title={'center':'education-num'}>,\n",
       "        <AxesSubplot:title={'center':'capital-gain'}>],\n",
       "       [<AxesSubplot:title={'center':'capital-loss'}>,\n",
       "        <AxesSubplot:title={'center':'hours-per-week'}>]], dtype=object)"
      ]
     },
     "execution_count": 156,
     "metadata": {},
     "output_type": "execute_result"
    },
    {
     "data": {
      "image/png": "[encoded data removed]",
      "text/plain": [
       "<Figure size 720x720 with 6 Axes>"
      ]
     },
     "metadata": {
      "needs_background": "light"
     },
     "output_type": "display_data"
    }
   ],
   "source": [
    "num_attributes.hist(figsize=(10,10))"
   ]
  },
  {
   "cell_type": "markdown",
   "metadata": {},
   "source": [
    "### 범주형데이터"
   ]
  },
  {
   "cell_type": "code",
   "execution_count": 158,
   "metadata": {
    "scrolled": false
   },
   "outputs": [
    {
     "data": {
      "image/png": "[encoded data removed]",
      "text/plain": [
       "<Figure size 720x3600 with 9 Axes>"
      ]
     },
     "metadata": {
      "needs_background": "light"
     },
     "output_type": "display_data"
    }
   ],
   "source": [
    "col_list = cat_attributes.columns\n",
    "i = 1\n",
    "plt.figure(figsize=(10,50))\n",
    "for idx in col_list:\n",
    "    plt.subplot(len(col_list),1, i)\n",
    "    plt.barh(train_data[train_data['income'].str.contains('<=50K')][idx].value_counts().index,width = train_data[train_data['income'].str.contains('<=50K')][idx].value_counts().values, label='<=50K', )\n",
    "    plt.barh(train_data[train_data['income'].str.contains('>50K')][idx].value_counts().index,width = train_data[train_data['income'].str.contains('>50K')][idx].value_counts().values, label = '>50K')\n",
    "    plt.grid(axis='x')\n",
    "    plt.legend()\n",
    "    plt.gca().invert_yaxis()\n",
    "    plt.title(idx)\n",
    "    i+=1\n",
    "plt.show()"
   ]
  },
  {
   "cell_type": "markdown",
   "metadata": {},
   "source": [
    "### 빈도테이블"
   ]
  },
  {
   "cell_type": "code",
   "execution_count": 11,
   "metadata": {
    "scrolled": false
   },
   "outputs": [
    {
     "name": "stdout",
     "output_type": "stream",
     "text": [
      "빈도테이블\n",
      "===============================================\n",
      "workClass_freq_table\n",
      "                   freq    r_freq     p_freq\n",
      "Private           22696  0.697030  69.703019\n",
      "Self-emp-not-inc   2541  0.078038   7.803814\n",
      "Local-gov          2093  0.064279   6.427935\n",
      "State-gov          1298  0.039864   3.986364\n",
      "Self-emp-inc       1116  0.034274   3.427413\n",
      "Federal-gov         960  0.029483   2.948312\n",
      "Without-pay          14  0.000430   0.042996\n",
      "Never-worked          7  0.000215   0.021498\n",
      "===============================================\n",
      "\n",
      "===============================================\n",
      "education_freq_table\n",
      "               freq    r_freq     p_freq\n",
      "HS-grad       10501  0.322502  32.250238\n",
      "Some-college   7291  0.223918  22.391818\n",
      "Bachelors      5355  0.164461  16.446055\n",
      "Masters        1723  0.052916   5.291607\n",
      "Assoc-voc      1382  0.042443   4.244341\n",
      "11th           1175  0.036086   3.608612\n",
      "Assoc-acdm     1067  0.032769   3.276926\n",
      "10th            933  0.028654   2.865391\n",
      "7th-8th         646  0.019840   1.983969\n",
      "Prof-school     576  0.017690   1.768987\n",
      "9th             514  0.015786   1.578576\n",
      "12th            433  0.013298   1.329812\n",
      "Doctorate       413  0.012684   1.268389\n",
      "5th-6th         333  0.010227   1.022696\n",
      "1st-4th         168  0.005160   0.515955\n",
      "Preschool        51  0.001566   0.156629\n",
      "===============================================\n",
      "\n",
      "===============================================\n",
      "marital-status_freq_table\n",
      "                        freq    r_freq     p_freq\n",
      "Married-civ-spouse     14976  0.459937  45.993673\n",
      "Never-married          10683  0.328092  32.809189\n",
      "Divorced                4443  0.136452  13.645158\n",
      "Separated               1025  0.031479   3.147938\n",
      "Widowed                  993  0.030497   3.049661\n",
      "Married-spouse-absent    418  0.012837   1.283744\n",
      "Married-AF-spouse         23  0.000706   0.070637\n",
      "===============================================\n",
      "\n",
      "===============================================\n",
      "occupation_freq_table\n",
      "                   freq    r_freq     p_freq\n",
      "Prof-specialty     4140  0.127146  12.714597\n",
      "Craft-repair       4099  0.125887  12.588680\n",
      "Exec-managerial    4066  0.124873  12.487331\n",
      "Adm-clerical       3770  0.115783  11.578268\n",
      "Sales              3650  0.112097  11.209729\n",
      "Other-service      3295  0.101195  10.119468\n",
      "Machine-op-inspct  2002  0.061485   6.148460\n",
      "Transport-moving   1597  0.049046   4.904641\n",
      "Handlers-cleaners  1370  0.042075   4.207487\n",
      "Farming-fishing     994  0.030527   3.052732\n",
      "Tech-support        928  0.028500   2.850035\n",
      "Protective-serv     649  0.019932   1.993182\n",
      "Priv-house-serv     149  0.004576   0.457603\n",
      "Armed-Forces          9  0.000276   0.027640\n",
      "===============================================\n",
      "\n",
      "===============================================\n",
      "relationship_freq_table\n",
      "                 freq    r_freq     p_freq\n",
      "Husband         13193  0.405178  40.517797\n",
      "Not-in-family    8305  0.255060  25.505973\n",
      "Own-child        5068  0.155646  15.564633\n",
      "Unmarried        3446  0.105832  10.583213\n",
      "Wife             1568  0.048156   4.815577\n",
      "Other-relative    981  0.030128   3.012807\n",
      "===============================================\n",
      "\n",
      "===============================================\n",
      "race_freq_table\n",
      "                     freq    r_freq     p_freq\n",
      "White               27816  0.854274  85.427352\n",
      "Black                3124  0.095943   9.594300\n",
      "Asian-Pac-Islander   1039  0.031909   3.190934\n",
      "Amer-Indian-Eskimo    311  0.009551   0.955130\n",
      "Other                 271  0.008323   0.832284\n",
      "===============================================\n",
      "\n",
      "===============================================\n",
      "sex_freq_table\n",
      "         freq    r_freq     p_freq\n",
      "Male    21790  0.669205  66.920549\n",
      "Female  10771  0.330795  33.079451\n",
      "===============================================\n",
      "\n",
      "===============================================\n",
      "native-country_freq_table\n",
      "                             freq    r_freq     p_freq\n",
      "United-States               29170  0.895857  89.585701\n",
      "Mexico                        643  0.019748   1.974755\n",
      "Philippines                   198  0.006081   0.608089\n",
      "Germany                       137  0.004207   0.420749\n",
      "Canada                        121  0.003716   0.371610\n",
      "Puerto-Rico                   114  0.003501   0.350112\n",
      "El-Salvador                   106  0.003255   0.325543\n",
      "India                         100  0.003071   0.307116\n",
      "Cuba                           95  0.002918   0.291760\n",
      "England                        90  0.002764   0.276404\n",
      "Jamaica                        81  0.002488   0.248764\n",
      "South                          80  0.002457   0.245693\n",
      "China                          75  0.002303   0.230337\n",
      "Italy                          73  0.002242   0.224195\n",
      "Dominican-Republic             70  0.002150   0.214981\n",
      "Vietnam                        67  0.002058   0.205768\n",
      "Guatemala                      64  0.001966   0.196554\n",
      "Japan                          62  0.001904   0.190412\n",
      "Poland                         60  0.001843   0.184270\n",
      "Columbia                       59  0.001812   0.181198\n",
      "Taiwan                         51  0.001566   0.156629\n",
      "Haiti                          44  0.001351   0.135131\n",
      "Iran                           43  0.001321   0.132060\n",
      "Portugal                       37  0.001136   0.113633\n",
      "Nicaragua                      34  0.001044   0.104419\n",
      "Peru                           31  0.000952   0.095206\n",
      "Greece                         29  0.000891   0.089064\n",
      "France                         29  0.000891   0.089064\n",
      "Ecuador                        28  0.000860   0.085992\n",
      "Ireland                        24  0.000737   0.073708\n",
      "Hong                           20  0.000614   0.061423\n",
      "Trinadad&Tobago                19  0.000584   0.058352\n",
      "Cambodia                       19  0.000584   0.058352\n",
      "Thailand                       18  0.000553   0.055281\n",
      "Laos                           18  0.000553   0.055281\n",
      "Yugoslavia                     16  0.000491   0.049139\n",
      "Outlying-US(Guam-USVI-etc)     14  0.000430   0.042996\n",
      "Honduras                       13  0.000399   0.039925\n",
      "Hungary                        13  0.000399   0.039925\n",
      "Scotland                       12  0.000369   0.036854\n",
      "Holand-Netherlands              1  0.000031   0.003071\n",
      "===============================================\n",
      "\n",
      "===============================================\n",
      "income_freq_table\n",
      "        freq   r_freq     p_freq\n",
      "<=50K  24720  0.75919  75.919044\n",
      ">50K    7841  0.24081  24.080956\n",
      "===============================================\n",
      "\n"
     ]
    }
   ],
   "source": [
    "col_list = cat_attributes.columns\n",
    "print('빈도테이블')\n",
    "for col in col_list:\n",
    "    freq = train_data[col].value_counts()\n",
    "    r_freq = train_data[col].value_counts()/len(train_data)\n",
    "    p_freq = r_freq*100\n",
    "\n",
    "    freq_table = pd.DataFrame({\n",
    "        'freq' :freq,\n",
    "        'r_freq' : r_freq,\n",
    "        'p_freq' : p_freq\n",
    "    })\n",
    "    print(\"===============================================\")\n",
    "    print(col+ '_freq_table')\n",
    "    print(freq_table)\n",
    "    print(\"===============================================\\n\")"
   ]
  },
  {
   "cell_type": "markdown",
   "metadata": {},
   "source": [
    "### income에 따른 빈도수"
   ]
  },
  {
   "cell_type": "code",
   "execution_count": 12,
   "metadata": {
    "scrolled": false
   },
   "outputs": [
    {
     "name": "stdout",
     "output_type": "stream",
     "text": [
      "===========================================\n",
      "income            <=50K  >50K\n",
      "workClass                    \n",
      "Federal-gov         589   371\n",
      "Local-gov          1476   617\n",
      "Never-worked          7     0\n",
      "Private           17733  4963\n",
      "Self-emp-inc        494   622\n",
      "Self-emp-not-inc   1817   724\n",
      "State-gov           945   353\n",
      "Without-pay          14     0\n",
      "===========================================\n",
      "\n",
      "===========================================\n",
      "income        <=50K  >50K\n",
      "education                \n",
      "10th            871    62\n",
      "11th           1115    60\n",
      "12th            400    33\n",
      "1st-4th         162     6\n",
      "5th-6th         317    16\n",
      "7th-8th         606    40\n",
      "9th             487    27\n",
      "Assoc-acdm      802   265\n",
      "Assoc-voc      1021   361\n",
      "Bachelors      3134  2221\n",
      "Doctorate       107   306\n",
      "HS-grad        8826  1675\n",
      "Masters         764   959\n",
      "Preschool        51     0\n",
      "Prof-school     153   423\n",
      "Some-college   5904  1387\n",
      "===========================================\n",
      "\n",
      "===========================================\n",
      "income                 <=50K  >50K\n",
      "marital-status                    \n",
      "Divorced                3980   463\n",
      "Married-AF-spouse         13    10\n",
      "Married-civ-spouse      8284  6692\n",
      "Married-spouse-absent    384    34\n",
      "Never-married          10192   491\n",
      "Separated                959    66\n",
      "Widowed                  908    85\n",
      "===========================================\n",
      "\n",
      "===========================================\n",
      "income             <=50K  >50K\n",
      "occupation                    \n",
      "Adm-clerical        3263   507\n",
      "Armed-Forces           8     1\n",
      "Craft-repair        3170   929\n",
      "Exec-managerial     2098  1968\n",
      "Farming-fishing      879   115\n",
      "Handlers-cleaners   1284    86\n",
      "Machine-op-inspct   1752   250\n",
      "Other-service       3158   137\n",
      "Priv-house-serv      148     1\n",
      "Prof-specialty      2281  1859\n",
      "Protective-serv      438   211\n",
      "Sales               2667   983\n",
      "Tech-support         645   283\n",
      "Transport-moving    1277   320\n",
      "===========================================\n",
      "\n",
      "===========================================\n",
      "income          <=50K  >50K\n",
      "relationship               \n",
      "Husband          7275  5918\n",
      "Not-in-family    7449   856\n",
      "Other-relative    944    37\n",
      "Own-child        5001    67\n",
      "Unmarried        3228   218\n",
      "Wife              823   745\n",
      "===========================================\n",
      "\n",
      "===========================================\n",
      "income              <=50K  >50K\n",
      "race                           \n",
      "Amer-Indian-Eskimo    275    36\n",
      "Asian-Pac-Islander    763   276\n",
      "Black                2737   387\n",
      "Other                 246    25\n",
      "White               20699  7117\n",
      "===========================================\n",
      "\n",
      "===========================================\n",
      "income  <=50K  >50K\n",
      "sex                \n",
      "Female   9592  1179\n",
      "Male    15128  6662\n",
      "===========================================\n",
      "\n",
      "===========================================\n",
      "income                      <=50K  >50K\n",
      "native-country                         \n",
      "Cambodia                       12     7\n",
      "Canada                         82    39\n",
      "China                          55    20\n",
      "Columbia                       57     2\n",
      "Cuba                           70    25\n",
      "Dominican-Republic             68     2\n",
      "Ecuador                        24     4\n",
      "El-Salvador                    97     9\n",
      "England                        60    30\n",
      "France                         17    12\n",
      "Germany                        93    44\n",
      "Greece                         21     8\n",
      "Guatemala                      61     3\n",
      "Haiti                          40     4\n",
      "Holand-Netherlands              1     0\n",
      "Honduras                       12     1\n",
      "Hong                           14     6\n",
      "Hungary                        10     3\n",
      "India                          60    40\n",
      "Iran                           25    18\n",
      "Ireland                        19     5\n",
      "Italy                          48    25\n",
      "Jamaica                        71    10\n",
      "Japan                          38    24\n",
      "Laos                           16     2\n",
      "Mexico                        610    33\n",
      "Nicaragua                      32     2\n",
      "Outlying-US(Guam-USVI-etc)     14     0\n",
      "Peru                           29     2\n",
      "Philippines                   137    61\n",
      "Poland                         48    12\n",
      "Portugal                       33     4\n",
      "Puerto-Rico                   102    12\n",
      "Scotland                        9     3\n",
      "South                          64    16\n",
      "Taiwan                         31    20\n",
      "Thailand                       15     3\n",
      "Trinadad&Tobago                17     2\n",
      "United-States               21999  7171\n",
      "Vietnam                        62     5\n",
      "Yugoslavia                     10     6\n",
      "===========================================\n",
      "\n",
      "===========================================\n",
      "income  <=50K  >50K\n",
      "income             \n",
      "<=50K   24720     0\n",
      ">50K        0  7841\n",
      "===========================================\n",
      "\n"
     ]
    }
   ],
   "source": [
    "col_list = cat_attributes.columns\n",
    "for idx in col_list:\n",
    "    print(\"===========================================\")\n",
    "    print(pd.crosstab(train_data[idx], train_data['income']))\n",
    "    print(\"===========================================\\n\")"
   ]
  },
  {
   "cell_type": "markdown",
   "metadata": {},
   "source": [
    "## -Multivariate analysis (correlation matrix, scatter plot, etc.) 다변량분석 (상관관계, 산점도등)"
   ]
  },
  {
   "cell_type": "code",
   "execution_count": 13,
   "metadata": {
    "scrolled": false
   },
   "outputs": [
    {
     "data": {
      "text/html": [
       "<div>\n",
       "<style scoped>\n",
       "    .dataframe tbody tr th:only-of-type {\n",
       "        vertical-align: middle;\n",
       "    }\n",
       "\n",
       "    .dataframe tbody tr th {\n",
       "        vertical-align: top;\n",
       "    }\n",
       "\n",
       "    .dataframe thead th {\n",
       "        text-align: right;\n",
       "    }\n",
       "</style>\n",
       "<table border=\"1\" class=\"dataframe\">\n",
       "  <thead>\n",
       "    <tr style=\"text-align: right;\">\n",
       "      <th></th>\n",
       "      <th>age</th>\n",
       "      <th>fnlwgt</th>\n",
       "      <th>education-num</th>\n",
       "      <th>capital-gain</th>\n",
       "      <th>capital-loss</th>\n",
       "      <th>hours-per-week</th>\n",
       "    </tr>\n",
       "  </thead>\n",
       "  <tbody>\n",
       "    <tr>\n",
       "      <th>age</th>\n",
       "      <td>1.000000</td>\n",
       "      <td>-0.076646</td>\n",
       "      <td>0.036527</td>\n",
       "      <td>0.077674</td>\n",
       "      <td>0.057775</td>\n",
       "      <td>0.068756</td>\n",
       "    </tr>\n",
       "    <tr>\n",
       "      <th>fnlwgt</th>\n",
       "      <td>-0.076646</td>\n",
       "      <td>1.000000</td>\n",
       "      <td>-0.043195</td>\n",
       "      <td>0.000432</td>\n",
       "      <td>-0.010252</td>\n",
       "      <td>-0.018768</td>\n",
       "    </tr>\n",
       "    <tr>\n",
       "      <th>education-num</th>\n",
       "      <td>0.036527</td>\n",
       "      <td>-0.043195</td>\n",
       "      <td>1.000000</td>\n",
       "      <td>0.122630</td>\n",
       "      <td>0.079923</td>\n",
       "      <td>0.148123</td>\n",
       "    </tr>\n",
       "    <tr>\n",
       "      <th>capital-gain</th>\n",
       "      <td>0.077674</td>\n",
       "      <td>0.000432</td>\n",
       "      <td>0.122630</td>\n",
       "      <td>1.000000</td>\n",
       "      <td>-0.031615</td>\n",
       "      <td>0.078409</td>\n",
       "    </tr>\n",
       "    <tr>\n",
       "      <th>capital-loss</th>\n",
       "      <td>0.057775</td>\n",
       "      <td>-0.010252</td>\n",
       "      <td>0.079923</td>\n",
       "      <td>-0.031615</td>\n",
       "      <td>1.000000</td>\n",
       "      <td>0.054256</td>\n",
       "    </tr>\n",
       "    <tr>\n",
       "      <th>hours-per-week</th>\n",
       "      <td>0.068756</td>\n",
       "      <td>-0.018768</td>\n",
       "      <td>0.148123</td>\n",
       "      <td>0.078409</td>\n",
       "      <td>0.054256</td>\n",
       "      <td>1.000000</td>\n",
       "    </tr>\n",
       "  </tbody>\n",
       "</table>\n",
       "</div>"
      ],
      "text/plain": [
       "                     age    fnlwgt  education-num  capital-gain  capital-loss  \\\n",
       "age             1.000000 -0.076646       0.036527      0.077674      0.057775   \n",
       "fnlwgt         -0.076646  1.000000      -0.043195      0.000432     -0.010252   \n",
       "education-num   0.036527 -0.043195       1.000000      0.122630      0.079923   \n",
       "capital-gain    0.077674  0.000432       0.122630      1.000000     -0.031615   \n",
       "capital-loss    0.057775 -0.010252       0.079923     -0.031615      1.000000   \n",
       "hours-per-week  0.068756 -0.018768       0.148123      0.078409      0.054256   \n",
       "\n",
       "                hours-per-week  \n",
       "age                   0.068756  \n",
       "fnlwgt               -0.018768  \n",
       "education-num         0.148123  \n",
       "capital-gain          0.078409  \n",
       "capital-loss          0.054256  \n",
       "hours-per-week        1.000000  "
      ]
     },
     "execution_count": 13,
     "metadata": {},
     "output_type": "execute_result"
    }
   ],
   "source": [
    "train_data.corr()"
   ]
  },
  {
   "cell_type": "code",
   "execution_count": 14,
   "metadata": {},
   "outputs": [
    {
     "data": {
      "image/png": "[encoded data removed]",
      "text/plain": [
       "<Figure size 288x288 with 2 Axes>"
      ]
     },
     "metadata": {
      "needs_background": "light"
     },
     "output_type": "display_data"
    }
   ],
   "source": [
    "plt.matshow(train_data.corr())\n",
    "plt.colorbar()\n",
    "plt.show()"
   ]
  },
  {
   "cell_type": "markdown",
   "metadata": {},
   "source": [
    "대부분의 상관관계가 낮게 나왔다. 그중 가장 높은 2가지 hours-per-week와 education-num, capital-gain과 education-num의 산점도를 그려보았다"
   ]
  },
  {
   "cell_type": "code",
   "execution_count": 97,
   "metadata": {},
   "outputs": [
    {
     "data": {
      "text/plain": [
       "Text(0, 0.5, 'education-num')"
      ]
     },
     "execution_count": 97,
     "metadata": {},
     "output_type": "execute_result"
    },
    {
     "data": {
      "image/png": "[encoded data removed]",
      "text/plain": [
       "<Figure size 432x288 with 1 Axes>"
      ]
     },
     "metadata": {
      "needs_background": "light"
     },
     "output_type": "display_data"
    }
   ],
   "source": [
    "plt.scatter(train_data['hours-per-week'], train_data['education-num'])\n",
    "plt.xlabel('hours-per-week')\n",
    "plt.ylabel('education-num')"
   ]
  },
  {
   "cell_type": "code",
   "execution_count": 98,
   "metadata": {},
   "outputs": [
    {
     "data": {
      "text/plain": [
       "<matplotlib.collections.PathCollection at 0x1ea5a1f3fa0>"
      ]
     },
     "execution_count": 98,
     "metadata": {},
     "output_type": "execute_result"
    },
    {
     "data": {
      "image/png": "[encoded data removed]",
      "text/plain": [
       "<Figure size 432x288 with 1 Axes>"
      ]
     },
     "metadata": {
      "needs_background": "light"
     },
     "output_type": "display_data"
    }
   ],
   "source": [
    "plt.scatter(train_data['capital-gain'], train_data['education-num'])"
   ]
  },
  {
   "cell_type": "markdown",
   "metadata": {},
   "source": [
    "# Model building, analysis, or predictions 모델개발, 분석, 예측"
   ]
  },
  {
   "cell_type": "markdown",
   "metadata": {},
   "source": [
    "## 모델학습 1"
   ]
  },
  {
   "cell_type": "markdown",
   "metadata": {},
   "source": [
    "### train, test 데이터 분할"
   ]
  },
  {
   "cell_type": "code",
   "execution_count": 17,
   "metadata": {},
   "outputs": [],
   "source": [
    "columns = [\"age\", \"workClass\", \"fnlwgt\", \"education\", \"education-num\",\"marital-status\", \"occupation\", \"relationship\",\n",
    "          \"race\", \"sex\", \"capital-gain\", \"capital-loss\", \"hours-per-week\", \"native-country\", \"income\"]\n",
    "train_data = pd.read_csv('data/adult.data', names=columns)\n",
    "test_data  = pd.read_csv('data/adult.test', names=columns)"
   ]
  },
  {
   "cell_type": "code",
   "execution_count": 18,
   "metadata": {
    "scrolled": true
   },
   "outputs": [],
   "source": [
    "import sklearn\n",
    "import numpy as np\n",
    "from sklearn.model_selection import train_test_split\n",
    "\n",
    "col=num_attributes.columns\n",
    "\n",
    "\n",
    "X = train_data[col] \n",
    "y = train_data.iloc[:, -1]"
   ]
  },
  {
   "cell_type": "code",
   "execution_count": 19,
   "metadata": {},
   "outputs": [
    {
     "name": "stdout",
     "output_type": "stream",
     "text": [
      "X_train shape: (19536, 6)\n",
      "X_test shape: (13025, 6)\n",
      "y_train shape: (19536,)\n",
      "y_test shape: (13025,)\n"
     ]
    }
   ],
   "source": [
    "X_train, X_test, y_train, y_test = train_test_split(X, y, test_size=0.4, shuffle=True, random_state=1004)\n",
    "print('X_train shape:', X_train.shape)\n",
    "print('X_test shape:', X_test.shape)\n",
    "print('y_train shape:', y_train.shape)\n",
    "print('y_test shape:', y_test.shape)"
   ]
  },
  {
   "cell_type": "code",
   "execution_count": 20,
   "metadata": {},
   "outputs": [],
   "source": [
    "import numpy as np"
   ]
  },
  {
   "cell_type": "code",
   "execution_count": 21,
   "metadata": {
    "scrolled": true
   },
   "outputs": [
    {
     "data": {
      "text/html": [
       "<div>\n",
       "<style scoped>\n",
       "    .dataframe tbody tr th:only-of-type {\n",
       "        vertical-align: middle;\n",
       "    }\n",
       "\n",
       "    .dataframe tbody tr th {\n",
       "        vertical-align: top;\n",
       "    }\n",
       "\n",
       "    .dataframe thead th {\n",
       "        text-align: right;\n",
       "    }\n",
       "</style>\n",
       "<table border=\"1\" class=\"dataframe\">\n",
       "  <thead>\n",
       "    <tr style=\"text-align: right;\">\n",
       "      <th></th>\n",
       "      <th>age</th>\n",
       "      <th>fnlwgt</th>\n",
       "      <th>education-num</th>\n",
       "      <th>capital-gain</th>\n",
       "      <th>capital-loss</th>\n",
       "      <th>hours-per-week</th>\n",
       "    </tr>\n",
       "  </thead>\n",
       "  <tbody>\n",
       "    <tr>\n",
       "      <th>30339</th>\n",
       "      <td>50</td>\n",
       "      <td>175804</td>\n",
       "      <td>13</td>\n",
       "      <td>0</td>\n",
       "      <td>0</td>\n",
       "      <td>40</td>\n",
       "    </tr>\n",
       "    <tr>\n",
       "      <th>25055</th>\n",
       "      <td>45</td>\n",
       "      <td>194698</td>\n",
       "      <td>10</td>\n",
       "      <td>0</td>\n",
       "      <td>0</td>\n",
       "      <td>40</td>\n",
       "    </tr>\n",
       "    <tr>\n",
       "      <th>29016</th>\n",
       "      <td>44</td>\n",
       "      <td>357814</td>\n",
       "      <td>8</td>\n",
       "      <td>0</td>\n",
       "      <td>0</td>\n",
       "      <td>35</td>\n",
       "    </tr>\n",
       "    <tr>\n",
       "      <th>23570</th>\n",
       "      <td>47</td>\n",
       "      <td>228372</td>\n",
       "      <td>14</td>\n",
       "      <td>0</td>\n",
       "      <td>0</td>\n",
       "      <td>48</td>\n",
       "    </tr>\n",
       "    <tr>\n",
       "      <th>25514</th>\n",
       "      <td>55</td>\n",
       "      <td>217802</td>\n",
       "      <td>10</td>\n",
       "      <td>0</td>\n",
       "      <td>0</td>\n",
       "      <td>25</td>\n",
       "    </tr>\n",
       "    <tr>\n",
       "      <th>...</th>\n",
       "      <td>...</td>\n",
       "      <td>...</td>\n",
       "      <td>...</td>\n",
       "      <td>...</td>\n",
       "      <td>...</td>\n",
       "      <td>...</td>\n",
       "    </tr>\n",
       "    <tr>\n",
       "      <th>9455</th>\n",
       "      <td>23</td>\n",
       "      <td>274797</td>\n",
       "      <td>9</td>\n",
       "      <td>0</td>\n",
       "      <td>0</td>\n",
       "      <td>25</td>\n",
       "    </tr>\n",
       "    <tr>\n",
       "      <th>13637</th>\n",
       "      <td>31</td>\n",
       "      <td>31740</td>\n",
       "      <td>11</td>\n",
       "      <td>0</td>\n",
       "      <td>0</td>\n",
       "      <td>55</td>\n",
       "    </tr>\n",
       "    <tr>\n",
       "      <th>20511</th>\n",
       "      <td>36</td>\n",
       "      <td>41624</td>\n",
       "      <td>6</td>\n",
       "      <td>0</td>\n",
       "      <td>0</td>\n",
       "      <td>70</td>\n",
       "    </tr>\n",
       "    <tr>\n",
       "      <th>10763</th>\n",
       "      <td>28</td>\n",
       "      <td>126129</td>\n",
       "      <td>10</td>\n",
       "      <td>0</td>\n",
       "      <td>0</td>\n",
       "      <td>40</td>\n",
       "    </tr>\n",
       "    <tr>\n",
       "      <th>15362</th>\n",
       "      <td>46</td>\n",
       "      <td>160647</td>\n",
       "      <td>13</td>\n",
       "      <td>0</td>\n",
       "      <td>0</td>\n",
       "      <td>38</td>\n",
       "    </tr>\n",
       "  </tbody>\n",
       "</table>\n",
       "<p>19536 rows × 6 columns</p>\n",
       "</div>"
      ],
      "text/plain": [
       "       age  fnlwgt  education-num  capital-gain  capital-loss  hours-per-week\n",
       "30339   50  175804             13             0             0              40\n",
       "25055   45  194698             10             0             0              40\n",
       "29016   44  357814              8             0             0              35\n",
       "23570   47  228372             14             0             0              48\n",
       "25514   55  217802             10             0             0              25\n",
       "...    ...     ...            ...           ...           ...             ...\n",
       "9455    23  274797              9             0             0              25\n",
       "13637   31   31740             11             0             0              55\n",
       "20511   36   41624              6             0             0              70\n",
       "10763   28  126129             10             0             0              40\n",
       "15362   46  160647             13             0             0              38\n",
       "\n",
       "[19536 rows x 6 columns]"
      ]
     },
     "execution_count": 21,
     "metadata": {},
     "output_type": "execute_result"
    }
   ],
   "source": [
    "X_train"
   ]
  },
  {
   "cell_type": "code",
   "execution_count": 22,
   "metadata": {},
   "outputs": [
    {
     "data": {
      "text/plain": [
       "30339      >50K\n",
       "25055      >50K\n",
       "29016     <=50K\n",
       "23570      >50K\n",
       "25514     <=50K\n",
       "          ...  \n",
       "9455      <=50K\n",
       "13637     <=50K\n",
       "20511     <=50K\n",
       "10763     <=50K\n",
       "15362     <=50K\n",
       "Name: income, Length: 19536, dtype: object"
      ]
     },
     "execution_count": 22,
     "metadata": {},
     "output_type": "execute_result"
    }
   ],
   "source": [
    "y_train"
   ]
  },
  {
   "cell_type": "code",
   "execution_count": 23,
   "metadata": {},
   "outputs": [
    {
     "data": {
      "text/html": [
       "<div>\n",
       "<style scoped>\n",
       "    .dataframe tbody tr th:only-of-type {\n",
       "        vertical-align: middle;\n",
       "    }\n",
       "\n",
       "    .dataframe tbody tr th {\n",
       "        vertical-align: top;\n",
       "    }\n",
       "\n",
       "    .dataframe thead th {\n",
       "        text-align: right;\n",
       "    }\n",
       "</style>\n",
       "<table border=\"1\" class=\"dataframe\">\n",
       "  <thead>\n",
       "    <tr style=\"text-align: right;\">\n",
       "      <th></th>\n",
       "      <th>age</th>\n",
       "      <th>fnlwgt</th>\n",
       "      <th>education-num</th>\n",
       "      <th>capital-gain</th>\n",
       "      <th>capital-loss</th>\n",
       "      <th>hours-per-week</th>\n",
       "    </tr>\n",
       "  </thead>\n",
       "  <tbody>\n",
       "    <tr>\n",
       "      <th>8568</th>\n",
       "      <td>45</td>\n",
       "      <td>377757</td>\n",
       "      <td>5</td>\n",
       "      <td>0</td>\n",
       "      <td>0</td>\n",
       "      <td>40</td>\n",
       "    </tr>\n",
       "    <tr>\n",
       "      <th>28750</th>\n",
       "      <td>19</td>\n",
       "      <td>369463</td>\n",
       "      <td>9</td>\n",
       "      <td>0</td>\n",
       "      <td>0</td>\n",
       "      <td>40</td>\n",
       "    </tr>\n",
       "    <tr>\n",
       "      <th>2971</th>\n",
       "      <td>36</td>\n",
       "      <td>131239</td>\n",
       "      <td>13</td>\n",
       "      <td>3103</td>\n",
       "      <td>0</td>\n",
       "      <td>45</td>\n",
       "    </tr>\n",
       "    <tr>\n",
       "      <th>11557</th>\n",
       "      <td>23</td>\n",
       "      <td>123490</td>\n",
       "      <td>7</td>\n",
       "      <td>0</td>\n",
       "      <td>0</td>\n",
       "      <td>35</td>\n",
       "    </tr>\n",
       "    <tr>\n",
       "      <th>4655</th>\n",
       "      <td>19</td>\n",
       "      <td>124884</td>\n",
       "      <td>5</td>\n",
       "      <td>0</td>\n",
       "      <td>0</td>\n",
       "      <td>25</td>\n",
       "    </tr>\n",
       "    <tr>\n",
       "      <th>...</th>\n",
       "      <td>...</td>\n",
       "      <td>...</td>\n",
       "      <td>...</td>\n",
       "      <td>...</td>\n",
       "      <td>...</td>\n",
       "      <td>...</td>\n",
       "    </tr>\n",
       "    <tr>\n",
       "      <th>19202</th>\n",
       "      <td>46</td>\n",
       "      <td>99086</td>\n",
       "      <td>10</td>\n",
       "      <td>0</td>\n",
       "      <td>0</td>\n",
       "      <td>40</td>\n",
       "    </tr>\n",
       "    <tr>\n",
       "      <th>13560</th>\n",
       "      <td>40</td>\n",
       "      <td>143046</td>\n",
       "      <td>13</td>\n",
       "      <td>0</td>\n",
       "      <td>0</td>\n",
       "      <td>45</td>\n",
       "    </tr>\n",
       "    <tr>\n",
       "      <th>22216</th>\n",
       "      <td>45</td>\n",
       "      <td>54260</td>\n",
       "      <td>10</td>\n",
       "      <td>0</td>\n",
       "      <td>0</td>\n",
       "      <td>99</td>\n",
       "    </tr>\n",
       "    <tr>\n",
       "      <th>21375</th>\n",
       "      <td>25</td>\n",
       "      <td>306908</td>\n",
       "      <td>13</td>\n",
       "      <td>0</td>\n",
       "      <td>0</td>\n",
       "      <td>45</td>\n",
       "    </tr>\n",
       "    <tr>\n",
       "      <th>8238</th>\n",
       "      <td>62</td>\n",
       "      <td>113080</td>\n",
       "      <td>4</td>\n",
       "      <td>0</td>\n",
       "      <td>0</td>\n",
       "      <td>40</td>\n",
       "    </tr>\n",
       "  </tbody>\n",
       "</table>\n",
       "<p>13025 rows × 6 columns</p>\n",
       "</div>"
      ],
      "text/plain": [
       "       age  fnlwgt  education-num  capital-gain  capital-loss  hours-per-week\n",
       "8568    45  377757              5             0             0              40\n",
       "28750   19  369463              9             0             0              40\n",
       "2971    36  131239             13          3103             0              45\n",
       "11557   23  123490              7             0             0              35\n",
       "4655    19  124884              5             0             0              25\n",
       "...    ...     ...            ...           ...           ...             ...\n",
       "19202   46   99086             10             0             0              40\n",
       "13560   40  143046             13             0             0              45\n",
       "22216   45   54260             10             0             0              99\n",
       "21375   25  306908             13             0             0              45\n",
       "8238    62  113080              4             0             0              40\n",
       "\n",
       "[13025 rows x 6 columns]"
      ]
     },
     "execution_count": 23,
     "metadata": {},
     "output_type": "execute_result"
    }
   ],
   "source": [
    "X_test"
   ]
  },
  {
   "cell_type": "code",
   "execution_count": 24,
   "metadata": {},
   "outputs": [
    {
     "data": {
      "text/plain": [
       "8568      <=50K\n",
       "28750     <=50K\n",
       "2971       >50K\n",
       "11557     <=50K\n",
       "4655      <=50K\n",
       "          ...  \n",
       "19202      >50K\n",
       "13560     <=50K\n",
       "22216     <=50K\n",
       "21375      >50K\n",
       "8238      <=50K\n",
       "Name: income, Length: 13025, dtype: object"
      ]
     },
     "execution_count": 24,
     "metadata": {},
     "output_type": "execute_result"
    }
   ],
   "source": [
    "y_test"
   ]
  },
  {
   "cell_type": "markdown",
   "metadata": {},
   "source": [
    "### 결정트리"
   ]
  },
  {
   "cell_type": "code",
   "execution_count": 25,
   "metadata": {},
   "outputs": [
    {
     "name": "stdout",
     "output_type": "stream",
     "text": [
      "훈련 세트 정확도 :0.999\n",
      "테스트 세트 정확도 :0.770\n"
     ]
    }
   ],
   "source": [
    "from sklearn.tree import DecisionTreeClassifier\n",
    "dtc = DecisionTreeClassifier(random_state=0)\n",
    "dtc.fit(X_train, y_train)\n",
    "print(\"훈련 세트 정확도 :{:.3f}\".format(dtc.score(X_train, y_train)))\n",
    "print(\"테스트 세트 정확도 :{:.3f}\".format(dtc.score(X_test, y_test)))"
   ]
  },
  {
   "cell_type": "code",
   "execution_count": 26,
   "metadata": {},
   "outputs": [
    {
     "name": "stdout",
     "output_type": "stream",
     "text": [
      "훈련 세트 정확도 :0.820\n",
      "테스트 세트 정확도 :0.816\n"
     ]
    }
   ],
   "source": [
    "dtc = DecisionTreeClassifier(random_state=0,max_depth = 4)\n",
    "dtc.fit(X_train, y_train)\n",
    "print(\"훈련 세트 정확도 :{:.3f}\".format(dtc.score(X_train, y_train)))\n",
    "print(\"테스트 세트 정확도 :{:.3f}\".format(dtc.score(X_test, y_test)))"
   ]
  },
  {
   "cell_type": "markdown",
   "metadata": {},
   "source": [
    "### 랜덤포레스트"
   ]
  },
  {
   "cell_type": "code",
   "execution_count": 27,
   "metadata": {
    "scrolled": true
   },
   "outputs": [
    {
     "name": "stdout",
     "output_type": "stream",
     "text": [
      "훈련 세트 정확도 :0.999\n",
      "테스트 세트 정확도 :0.810\n"
     ]
    }
   ],
   "source": [
    "from sklearn.ensemble import RandomForestClassifier\n",
    "rfc = RandomForestClassifier(random_state=0)\n",
    "rfc.fit(X_train, y_train)\n",
    "print(\"훈련 세트 정확도 :{:.3f}\".format(rfc.score(X_train, y_train)))\n",
    "print(\"테스트 세트 정확도 :{:.3f}\".format(rfc.score(X_test, y_test)))"
   ]
  },
  {
   "cell_type": "code",
   "execution_count": 28,
   "metadata": {},
   "outputs": [
    {
     "name": "stdout",
     "output_type": "stream",
     "text": [
      "훈련 세트 정확도 :0.951\n",
      "테스트 세트 정확도 :0.807\n"
     ]
    }
   ],
   "source": [
    "rfc = RandomForestClassifier(random_state=0, n_estimators = 4\n",
    "                            )\n",
    "rfc.fit(X_train, y_train)\n",
    "print(\"훈련 세트 정확도 :{:.3f}\".format(rfc.score(X_train, y_train)))\n",
    "print(\"테스트 세트 정확도 :{:.3f}\".format(rfc.score(X_test, y_test)))"
   ]
  },
  {
   "cell_type": "markdown",
   "metadata": {},
   "source": [
    "### LDA"
   ]
  },
  {
   "cell_type": "code",
   "execution_count": 29,
   "metadata": {},
   "outputs": [
    {
     "name": "stdout",
     "output_type": "stream",
     "text": [
      "훈련 세트 정확도 :0.804\n",
      "테스트 세트 정확도 :0.800\n"
     ]
    }
   ],
   "source": [
    "from sklearn.discriminant_analysis import LinearDiscriminantAnalysis\n",
    "lda = LinearDiscriminantAnalysis()\n",
    "lda.fit(X_train, y_train)\n",
    "print(\"훈련 세트 정확도 :{:.3f}\".format(lda.score(X_train, y_train)))\n",
    "print(\"테스트 세트 정확도 :{:.3f}\".format(lda.score(X_test, y_test)))"
   ]
  },
  {
   "cell_type": "markdown",
   "metadata": {},
   "source": [
    "### KNN"
   ]
  },
  {
   "cell_type": "code",
   "execution_count": 30,
   "metadata": {},
   "outputs": [
    {
     "name": "stdout",
     "output_type": "stream",
     "text": [
      "훈련 세트 정확도 :0.834\n",
      "테스트 세트 정확도 :0.767\n"
     ]
    }
   ],
   "source": [
    "from sklearn.neighbors import KNeighborsClassifier\n",
    "knn = KNeighborsClassifier()\n",
    "knn.fit(X_train, y_train)\n",
    "print(\"훈련 세트 정확도 :{:.3f}\".format(knn.score(X_train, y_train)))\n",
    "print(\"테스트 세트 정확도 :{:.3f}\".format(knn.score(X_test, y_test)))"
   ]
  },
  {
   "cell_type": "markdown",
   "metadata": {},
   "source": [
    "### SVM"
   ]
  },
  {
   "cell_type": "code",
   "execution_count": 31,
   "metadata": {},
   "outputs": [
    {
     "name": "stdout",
     "output_type": "stream",
     "text": [
      "훈련 세트 정확도 :0.794\n",
      "테스트 세트 정확도 :0.792\n"
     ]
    }
   ],
   "source": [
    "from sklearn.svm import SVC\n",
    "svm = SVC()\n",
    "svm.fit(X_train, y_train)\n",
    "print(\"훈련 세트 정확도 :{:.3f}\".format(svm.score(X_train, y_train)))\n",
    "print(\"테스트 세트 정확도 :{:.3f}\".format(svm.score(X_test, y_test)))"
   ]
  },
  {
   "cell_type": "markdown",
   "metadata": {},
   "source": [
    "### 검증"
   ]
  },
  {
   "cell_type": "code",
   "execution_count": 32,
   "metadata": {},
   "outputs": [],
   "source": [
    "from sklearn.model_selection import cross_val_score\n",
    "dtc_score1 = cross_val_score(dtc, X_train, y_train, cv=10, scoring= 'accuracy')\n",
    "rfc_score1 =cross_val_score(rfc, X_train, y_train, cv=10, scoring= 'accuracy')\n",
    "lda_score1 = cross_val_score(lda, X_train, y_train, cv=10, scoring= 'accuracy')\n",
    "knn_score1 =cross_val_score(knn, X_train, y_train, cv=10, scoring= 'accuracy')\n",
    "svm_score1 = cross_val_score(svm, X_train, y_train, cv=10, scoring= 'accuracy')"
   ]
  },
  {
   "cell_type": "code",
   "execution_count": 33,
   "metadata": {},
   "outputs": [],
   "source": [
    "score1 = pd.DataFrame({\n",
    "    'lda_score_1' : lda_score1, 'dtc_score_1': dtc_score1, 'rfc_score_1': rfc_score1, 'knn_score_1' : knn_score1, 'svm_score_1' :svm_score1})"
   ]
  },
  {
   "cell_type": "code",
   "execution_count": 34,
   "metadata": {
    "scrolled": true
   },
   "outputs": [
    {
     "data": {
      "image/png": "[encoded data removed]",
      "text/plain": [
       "<Figure size 432x288 with 1 Axes>"
      ]
     },
     "metadata": {
      "needs_background": "light"
     },
     "output_type": "display_data"
    }
   ],
   "source": [
    "plt.boxplot([lda_score1, dtc_score1, rfc_score1, knn_score1, svm_score1])\n",
    "plt.xticks([1,2,3,4,5],['lda_score', 'dtc_score', 'rfc_score', 'knn_score', 'svm_score'])\n",
    "plt.show()"
   ]
  },
  {
   "cell_type": "markdown",
   "metadata": {},
   "source": [
    "## 원핫인코딩 후 데이터마이닝"
   ]
  },
  {
   "cell_type": "code",
   "execution_count": 35,
   "metadata": {},
   "outputs": [],
   "source": [
    "from sklearn.preprocessing import OneHotEncoder"
   ]
  },
  {
   "cell_type": "code",
   "execution_count": 36,
   "metadata": {},
   "outputs": [],
   "source": [
    "X1 = train_data.copy()"
   ]
  },
  {
   "cell_type": "markdown",
   "metadata": {},
   "source": [
    "### 원핫코딩"
   ]
  },
  {
   "cell_type": "code",
   "execution_count": 37,
   "metadata": {},
   "outputs": [],
   "source": [
    "dp_df = train_data.drop(['age','fnlwgt', 'education-num','capital-gain', 'capital-loss', 'hours-per-week', 'income'], axis=1)\n",
    "X = pd.concat([train_data[['age','fnlwgt', 'education-num','capital-gain', 'capital-loss', 'hours-per-week']], pd.get_dummies(dp_df)], axis=1)"
   ]
  },
  {
   "cell_type": "markdown",
   "metadata": {},
   "source": [
    "### 데이터 분할"
   ]
  },
  {
   "cell_type": "code",
   "execution_count": 38,
   "metadata": {},
   "outputs": [
    {
     "name": "stdout",
     "output_type": "stream",
     "text": [
      "X_train shape: (19536, 108)\n",
      "X_test shape: (13025, 108)\n",
      "y_train shape: (19536,)\n",
      "y_test shape: (13025,)\n"
     ]
    }
   ],
   "source": [
    "from sklearn.model_selection import train_test_split\n",
    "\n",
    "X_train, X_test, y_train, y_test = train_test_split(X, y, test_size=0.4, shuffle=True, random_state=1004)\n",
    "print('X_train shape:', X_train.shape)\n",
    "print('X_test shape:', X_test.shape)\n",
    "print('y_train shape:', y_train.shape)\n",
    "print('y_test shape:', y_test.shape)"
   ]
  },
  {
   "cell_type": "markdown",
   "metadata": {},
   "source": [
    "### 결정트리"
   ]
  },
  {
   "cell_type": "code",
   "execution_count": 39,
   "metadata": {},
   "outputs": [
    {
     "name": "stdout",
     "output_type": "stream",
     "text": [
      "훈련 세트 정확도 :1.000\n",
      "테스트 세트 정확도 :0.817\n"
     ]
    }
   ],
   "source": [
    "from sklearn.tree import DecisionTreeClassifier\n",
    "dtc = DecisionTreeClassifier(random_state=0)\n",
    "dtc.fit(X_train, y_train)\n",
    "print(\"훈련 세트 정확도 :{:.3f}\".format(dtc.score(X_train, y_train)))\n",
    "print(\"테스트 세트 정확도 :{:.3f}\".format(dtc.score(X_test, y_test)))"
   ]
  },
  {
   "cell_type": "code",
   "execution_count": 40,
   "metadata": {},
   "outputs": [
    {
     "name": "stdout",
     "output_type": "stream",
     "text": [
      "훈련 세트 정확도 :0.855\n",
      "테스트 세트 정확도 :0.852\n"
     ]
    }
   ],
   "source": [
    "dtc = DecisionTreeClassifier(random_state=0,max_depth = 5)\n",
    "dtc.fit(X_train, y_train)\n",
    "print(\"훈련 세트 정확도 :{:.3f}\".format(dtc.score(X_train, y_train)))\n",
    "print(\"테스트 세트 정확도 :{:.3f}\".format(dtc.score(X_test, y_test)))"
   ]
  },
  {
   "cell_type": "markdown",
   "metadata": {},
   "source": [
    "### 랜덤포레스트"
   ]
  },
  {
   "cell_type": "code",
   "execution_count": 41,
   "metadata": {},
   "outputs": [
    {
     "name": "stdout",
     "output_type": "stream",
     "text": [
      "훈련 세트 정확도 :1.000\n",
      "테스트 세트 정확도 :0.857\n"
     ]
    }
   ],
   "source": [
    "from sklearn.ensemble import RandomForestClassifier\n",
    "rfc = RandomForestClassifier(random_state=0)\n",
    "rfc.fit(X_train, y_train)\n",
    "print(\"훈련 세트 정확도 :{:.3f}\".format(rfc.score(X_train, y_train)))\n",
    "print(\"테스트 세트 정확도 :{:.3f}\".format(rfc.score(X_test, y_test)))"
   ]
  },
  {
   "cell_type": "code",
   "execution_count": 42,
   "metadata": {
    "scrolled": true
   },
   "outputs": [
    {
     "name": "stdout",
     "output_type": "stream",
     "text": [
      "훈련 세트 정확도 :0.962\n",
      "테스트 세트 정확도 :0.834\n"
     ]
    }
   ],
   "source": [
    "rfc = RandomForestClassifier(random_state=0, n_estimators =4)\n",
    "rfc.fit(X_train, y_train)\n",
    "print(\"훈련 세트 정확도 :{:.3f}\".format(rfc.score(X_train, y_train)))\n",
    "print(\"테스트 세트 정확도 :{:.3f}\".format(rfc.score(X_test, y_test)))"
   ]
  },
  {
   "cell_type": "markdown",
   "metadata": {},
   "source": [
    "### LDA"
   ]
  },
  {
   "cell_type": "code",
   "execution_count": 43,
   "metadata": {
    "scrolled": true
   },
   "outputs": [
    {
     "name": "stdout",
     "output_type": "stream",
     "text": [
      "훈련 세트 정확도 :0.844\n",
      "테스트 세트 정확도 :0.838\n"
     ]
    }
   ],
   "source": [
    "from sklearn.discriminant_analysis import LinearDiscriminantAnalysis\n",
    "lda = LinearDiscriminantAnalysis()\n",
    "lda.fit(X_train, y_train)\n",
    "print(\"훈련 세트 정확도 :{:.3f}\".format(lda.score(X_train, y_train)))\n",
    "print(\"테스트 세트 정확도 :{:.3f}\".format(lda.score(X_test, y_test)))"
   ]
  },
  {
   "cell_type": "markdown",
   "metadata": {},
   "source": [
    "### KNN"
   ]
  },
  {
   "cell_type": "code",
   "execution_count": 44,
   "metadata": {
    "scrolled": true
   },
   "outputs": [
    {
     "name": "stdout",
     "output_type": "stream",
     "text": [
      "훈련 세트 정확도 :0.834\n",
      "테스트 세트 정확도 :0.768\n"
     ]
    }
   ],
   "source": [
    "from sklearn.neighbors import KNeighborsClassifier\n",
    "knn = KNeighborsClassifier()\n",
    "knn.fit(X_train, y_train)\n",
    "print(\"훈련 세트 정확도 :{:.3f}\".format(knn.score(X_train, y_train)))\n",
    "print(\"테스트 세트 정확도 :{:.3f}\".format(knn.score(X_test, y_test)))"
   ]
  },
  {
   "cell_type": "markdown",
   "metadata": {},
   "source": [
    "### SVM"
   ]
  },
  {
   "cell_type": "code",
   "execution_count": 45,
   "metadata": {
    "scrolled": false
   },
   "outputs": [
    {
     "name": "stdout",
     "output_type": "stream",
     "text": [
      "훈련 세트 정확도 :0.792\n",
      "테스트 세트 정확도 :0.791\n"
     ]
    }
   ],
   "source": [
    "from sklearn.svm import SVC\n",
    "svm = SVC()\n",
    "svm.fit(X_train, y_train)\n",
    "print(\"훈련 세트 정확도 :{:.3f}\".format(svm.score(X_train, y_train)))\n",
    "print(\"테스트 세트 정확도 :{:.3f}\".format(svm.score(X_test, y_test)))"
   ]
  },
  {
   "cell_type": "markdown",
   "metadata": {},
   "source": [
    "### 데이터 검증"
   ]
  },
  {
   "cell_type": "code",
   "execution_count": 46,
   "metadata": {},
   "outputs": [],
   "source": [
    "from sklearn.model_selection import cross_val_score\n",
    "dtc_score2 = cross_val_score(dtc, X_train, y_train, cv=5, scoring= 'accuracy')\n",
    "rfc_score2 =cross_val_score(rfc, X_train, y_train, cv=5, scoring= 'accuracy')\n",
    "lda_score2 = cross_val_score(lda, X_train, y_train, cv=5, scoring= 'accuracy')\n",
    "knn_score2 =cross_val_score(knn, X_train, y_train, cv=5, scoring= 'accuracy')\n",
    "svm_score2 = cross_val_score(svm, X_train, y_train, cv=5, scoring= 'accuracy')"
   ]
  },
  {
   "cell_type": "code",
   "execution_count": 47,
   "metadata": {},
   "outputs": [],
   "source": [
    "import pickle\n",
    "import seaborn as sns\n",
    "import pandas as pd\n",
    "import matplotlib.pyplot as plt"
   ]
  },
  {
   "cell_type": "code",
   "execution_count": 48,
   "metadata": {},
   "outputs": [],
   "source": [
    "score2 = pd.DataFrame({\n",
    "    'lda_score_2' : lda_score2, 'dtc_score_2': dtc_score2, 'rfc_score_2': rfc_score2, 'knn_score_2' : knn_score2, 'svm_score_2' :svm_score2})"
   ]
  },
  {
   "cell_type": "code",
   "execution_count": 49,
   "metadata": {
    "scrolled": false
   },
   "outputs": [
    {
     "data": {
      "text/plain": [
       "<AxesSubplot:>"
      ]
     },
     "execution_count": 49,
     "metadata": {},
     "output_type": "execute_result"
    },
    {
     "data": {
      "image/png": "[encoded data removed]",
      "text/plain": [
       "<Figure size 432x288 with 1 Axes>"
      ]
     },
     "metadata": {
      "needs_background": "light"
     },
     "output_type": "display_data"
    }
   ],
   "source": [
    "sns.boxplot(data = score2)"
   ]
  },
  {
   "cell_type": "markdown",
   "metadata": {},
   "source": [
    "## MinMaxScaling 진행후 MIN+ONEHOT"
   ]
  },
  {
   "cell_type": "markdown",
   "metadata": {},
   "source": [
    "분류보다 회귀에 유용\n",
    "데이터를 0~1 사이에 위치하도록함."
   ]
  },
  {
   "cell_type": "code",
   "execution_count": 50,
   "metadata": {},
   "outputs": [],
   "source": [
    "from sklearn.preprocessing import MinMaxScaler\n",
    "columns = [\"age\", \"workClass\", \"fnlwgt\", \"education\", \"education-num\",\"marital-status\", \"occupation\", \"relationship\",\n",
    "          \"race\", \"sex\", \"capital-gain\", \"capital-loss\", \"hours-per-week\", \"native-country\", \"income\"]\n",
    "scaler = MinMaxScaler()\n",
    "X[['age', 'fnlwgt', 'education-num', 'cg', 'c', 'hw']] = scaler.fit_transform(X[['age', 'fnlwgt', 'education-num', 'capital-gain', 'capital-loss', 'hours-per-week']])"
   ]
  },
  {
   "cell_type": "code",
   "execution_count": 51,
   "metadata": {},
   "outputs": [
    {
     "name": "stdout",
     "output_type": "stream",
     "text": [
      "X_train shape: (19536, 111)\n",
      "X_test shape: (13025, 111)\n",
      "y_train shape: (19536,)\n",
      "y_test shape: (13025,)\n"
     ]
    }
   ],
   "source": [
    "from sklearn.model_selection import train_test_split\n",
    "\n",
    "X_train, X_test, y_train, y_test = train_test_split(X, y, test_size=0.4, shuffle=True, random_state=1004)\n",
    "print('X_train shape:', X_train.shape)\n",
    "print('X_test shape:', X_test.shape)\n",
    "print('y_train shape:', y_train.shape)\n",
    "print('y_test shape:', y_test.shape)"
   ]
  },
  {
   "cell_type": "markdown",
   "metadata": {},
   "source": [
    "### 결정트리"
   ]
  },
  {
   "cell_type": "code",
   "execution_count": 52,
   "metadata": {},
   "outputs": [
    {
     "name": "stdout",
     "output_type": "stream",
     "text": [
      "훈련 세트 정확도 :1.000\n",
      "테스트 세트 정확도 :0.814\n"
     ]
    }
   ],
   "source": [
    "from sklearn.tree import DecisionTreeClassifier\n",
    "dtc = DecisionTreeClassifier(random_state=0)\n",
    "dtc.fit(X_train, y_train)\n",
    "print(\"훈련 세트 정확도 :{:.3f}\".format(dtc.score(X_train, y_train)))\n",
    "print(\"테스트 세트 정확도 :{:.3f}\".format(dtc.score(X_test, y_test)))"
   ]
  },
  {
   "cell_type": "code",
   "execution_count": 53,
   "metadata": {},
   "outputs": [
    {
     "name": "stdout",
     "output_type": "stream",
     "text": [
      "훈련 세트 정확도 :0.855\n",
      "테스트 세트 정확도 :0.852\n"
     ]
    }
   ],
   "source": [
    "dtc = DecisionTreeClassifier(random_state=0,max_depth = 5)\n",
    "dtc.fit(X_train, y_train)\n",
    "print(\"훈련 세트 정확도 :{:.3f}\".format(dtc.score(X_train, y_train)))\n",
    "print(\"테스트 세트 정확도 :{:.3f}\".format(dtc.score(X_test, y_test)))"
   ]
  },
  {
   "cell_type": "markdown",
   "metadata": {},
   "source": [
    "### 랜덤포레스트"
   ]
  },
  {
   "cell_type": "code",
   "execution_count": 54,
   "metadata": {},
   "outputs": [
    {
     "name": "stdout",
     "output_type": "stream",
     "text": [
      "훈련 세트 정확도 :1.000\n",
      "테스트 세트 정확도 :0.858\n"
     ]
    }
   ],
   "source": [
    "from sklearn.ensemble import RandomForestClassifier\n",
    "rfc = RandomForestClassifier(random_state=0)\n",
    "rfc.fit(X_train, y_train)\n",
    "print(\"훈련 세트 정확도 :{:.3f}\".format(rfc.score(X_train, y_train)))\n",
    "print(\"테스트 세트 정확도 :{:.3f}\".format(rfc.score(X_test, y_test)))"
   ]
  },
  {
   "cell_type": "code",
   "execution_count": 55,
   "metadata": {},
   "outputs": [
    {
     "name": "stdout",
     "output_type": "stream",
     "text": [
      "훈련 세트 정확도 :0.963\n",
      "테스트 세트 정확도 :0.838\n"
     ]
    }
   ],
   "source": [
    "rfc = RandomForestClassifier(random_state=0, n_estimators =4)\n",
    "rfc.fit(X_train, y_train)\n",
    "print(\"훈련 세트 정확도 :{:.3f}\".format(rfc.score(X_train, y_train)))\n",
    "print(\"테스트 세트 정확도 :{:.3f}\".format(rfc.score(X_test, y_test)))"
   ]
  },
  {
   "cell_type": "markdown",
   "metadata": {},
   "source": [
    "### LDA"
   ]
  },
  {
   "cell_type": "code",
   "execution_count": 56,
   "metadata": {},
   "outputs": [
    {
     "name": "stdout",
     "output_type": "stream",
     "text": [
      "훈련 세트 정확도 :0.844\n",
      "테스트 세트 정확도 :0.838\n"
     ]
    }
   ],
   "source": [
    "from sklearn.discriminant_analysis import LinearDiscriminantAnalysis\n",
    "lda = LinearDiscriminantAnalysis()\n",
    "lda.fit(X_train, y_train)\n",
    "print(\"훈련 세트 정확도 :{:.3f}\".format(lda.score(X_train, y_train)))\n",
    "print(\"테스트 세트 정확도 :{:.3f}\".format(lda.score(X_test, y_test)))"
   ]
  },
  {
   "cell_type": "markdown",
   "metadata": {},
   "source": [
    "### KNN"
   ]
  },
  {
   "cell_type": "code",
   "execution_count": 57,
   "metadata": {},
   "outputs": [
    {
     "name": "stdout",
     "output_type": "stream",
     "text": [
      "훈련 세트 정확도 :0.897\n",
      "테스트 세트 정확도 :0.852\n"
     ]
    }
   ],
   "source": [
    "from sklearn.neighbors import KNeighborsClassifier\n",
    "knn = KNeighborsClassifier()\n",
    "knn.fit(X_train, y_train)\n",
    "print(\"훈련 세트 정확도 :{:.3f}\".format(knn.score(X_train, y_train)))\n",
    "print(\"테스트 세트 정확도 :{:.3f}\".format(knn.score(X_test, y_test)))"
   ]
  },
  {
   "cell_type": "markdown",
   "metadata": {},
   "source": [
    "### SVM"
   ]
  },
  {
   "cell_type": "code",
   "execution_count": 58,
   "metadata": {},
   "outputs": [
    {
     "name": "stdout",
     "output_type": "stream",
     "text": [
      "훈련 세트 정확도 :0.803\n",
      "테스트 세트 정확도 :0.802\n"
     ]
    }
   ],
   "source": [
    "from sklearn.svm import SVC\n",
    "svm = SVC()\n",
    "svm.fit(X_train, y_train)\n",
    "print(\"훈련 세트 정확도 :{:.3f}\".format(svm.score(X_train, y_train)))\n",
    "print(\"테스트 세트 정확도 :{:.3f}\".format(svm.score(X_test, y_test)))"
   ]
  },
  {
   "cell_type": "code",
   "execution_count": 59,
   "metadata": {},
   "outputs": [],
   "source": [
    "from sklearn.model_selection import cross_val_score\n",
    "dtc_score3 = cross_val_score(dtc, X_train, y_train, cv=5, scoring= 'accuracy')\n",
    "rfc_score3 =cross_val_score(rfc, X_train, y_train, cv=5, scoring= 'accuracy')\n",
    "lda_score3 = cross_val_score(lda, X_train, y_train, cv=5, scoring= 'accuracy')\n",
    "knn_score3 =cross_val_score(knn, X_train, y_train, cv=5, scoring= 'accuracy')\n",
    "svm_score3 = cross_val_score(svm, X_train, y_train, cv=5, scoring= 'accuracy')"
   ]
  },
  {
   "cell_type": "code",
   "execution_count": 60,
   "metadata": {},
   "outputs": [],
   "source": [
    "score3 = pd.DataFrame({\n",
    "    'lda_score_2' : lda_score3, 'dtc_score_3': dtc_score3, 'rfc_score_3': rfc_score3, 'knn_score_3' : knn_score3, 'svm_score_3' :svm_score3})"
   ]
  },
  {
   "cell_type": "code",
   "execution_count": 61,
   "metadata": {},
   "outputs": [
    {
     "data": {
      "text/plain": [
       "<AxesSubplot:>"
      ]
     },
     "execution_count": 61,
     "metadata": {},
     "output_type": "execute_result"
    },
    {
     "data": {
      "image/png": "[encoded data removed]",
      "text/plain": [
       "<Figure size 432x288 with 1 Axes>"
      ]
     },
     "metadata": {
      "needs_background": "light"
     },
     "output_type": "display_data"
    }
   ],
   "source": [
    "sns.boxplot(data = score3)"
   ]
  },
  {
   "cell_type": "markdown",
   "metadata": {},
   "source": [
    "## StandardScaler + OneHocoding"
   ]
  },
  {
   "cell_type": "code",
   "execution_count": 62,
   "metadata": {},
   "outputs": [],
   "source": [
    "import sklearn\n",
    "import numpy as np\n",
    "from sklearn.model_selection import train_test_split\n",
    "\n",
    "col=num_attributes.columns\n",
    "\n",
    "\n",
    "X = train_data[col] \n",
    "y = train_data.iloc[:, -1]"
   ]
  },
  {
   "cell_type": "code",
   "execution_count": 63,
   "metadata": {},
   "outputs": [],
   "source": [
    "dp_df = train_data.drop(['age','fnlwgt', 'education-num','capital-gain', 'capital-loss', 'hours-per-week', 'income'], axis=1)\n",
    "X = pd.concat([train_data[['age','fnlwgt', 'education-num','capital-gain', 'capital-loss', 'hours-per-week']], pd.get_dummies(dp_df)], axis=1)"
   ]
  },
  {
   "cell_type": "code",
   "execution_count": 64,
   "metadata": {
    "scrolled": true
   },
   "outputs": [
    {
     "data": {
      "text/html": [
       "<div>\n",
       "<style scoped>\n",
       "    .dataframe tbody tr th:only-of-type {\n",
       "        vertical-align: middle;\n",
       "    }\n",
       "\n",
       "    .dataframe tbody tr th {\n",
       "        vertical-align: top;\n",
       "    }\n",
       "\n",
       "    .dataframe thead th {\n",
       "        text-align: right;\n",
       "    }\n",
       "</style>\n",
       "<table border=\"1\" class=\"dataframe\">\n",
       "  <thead>\n",
       "    <tr style=\"text-align: right;\">\n",
       "      <th></th>\n",
       "      <th>age</th>\n",
       "      <th>fnlwgt</th>\n",
       "      <th>education-num</th>\n",
       "      <th>capital-gain</th>\n",
       "      <th>capital-loss</th>\n",
       "      <th>hours-per-week</th>\n",
       "      <th>workClass_ ?</th>\n",
       "      <th>workClass_ Federal-gov</th>\n",
       "      <th>workClass_ Local-gov</th>\n",
       "      <th>workClass_ Never-worked</th>\n",
       "      <th>...</th>\n",
       "      <th>native-country_ Portugal</th>\n",
       "      <th>native-country_ Puerto-Rico</th>\n",
       "      <th>native-country_ Scotland</th>\n",
       "      <th>native-country_ South</th>\n",
       "      <th>native-country_ Taiwan</th>\n",
       "      <th>native-country_ Thailand</th>\n",
       "      <th>native-country_ Trinadad&amp;Tobago</th>\n",
       "      <th>native-country_ United-States</th>\n",
       "      <th>native-country_ Vietnam</th>\n",
       "      <th>native-country_ Yugoslavia</th>\n",
       "    </tr>\n",
       "  </thead>\n",
       "  <tbody>\n",
       "    <tr>\n",
       "      <th>0</th>\n",
       "      <td>0.030671</td>\n",
       "      <td>-1.063611</td>\n",
       "      <td>1.134739</td>\n",
       "      <td>0.148453</td>\n",
       "      <td>-0.21666</td>\n",
       "      <td>-0.035429</td>\n",
       "      <td>0</td>\n",
       "      <td>0</td>\n",
       "      <td>0</td>\n",
       "      <td>0</td>\n",
       "      <td>...</td>\n",
       "      <td>0</td>\n",
       "      <td>0</td>\n",
       "      <td>0</td>\n",
       "      <td>0</td>\n",
       "      <td>0</td>\n",
       "      <td>0</td>\n",
       "      <td>0</td>\n",
       "      <td>1</td>\n",
       "      <td>0</td>\n",
       "      <td>0</td>\n",
       "    </tr>\n",
       "    <tr>\n",
       "      <th>1</th>\n",
       "      <td>0.837109</td>\n",
       "      <td>-1.008707</td>\n",
       "      <td>1.134739</td>\n",
       "      <td>-0.145920</td>\n",
       "      <td>-0.21666</td>\n",
       "      <td>-2.222153</td>\n",
       "      <td>0</td>\n",
       "      <td>0</td>\n",
       "      <td>0</td>\n",
       "      <td>0</td>\n",
       "      <td>...</td>\n",
       "      <td>0</td>\n",
       "      <td>0</td>\n",
       "      <td>0</td>\n",
       "      <td>0</td>\n",
       "      <td>0</td>\n",
       "      <td>0</td>\n",
       "      <td>0</td>\n",
       "      <td>1</td>\n",
       "      <td>0</td>\n",
       "      <td>0</td>\n",
       "    </tr>\n",
       "    <tr>\n",
       "      <th>2</th>\n",
       "      <td>-0.042642</td>\n",
       "      <td>0.245079</td>\n",
       "      <td>-0.420060</td>\n",
       "      <td>-0.145920</td>\n",
       "      <td>-0.21666</td>\n",
       "      <td>-0.035429</td>\n",
       "      <td>0</td>\n",
       "      <td>0</td>\n",
       "      <td>0</td>\n",
       "      <td>0</td>\n",
       "      <td>...</td>\n",
       "      <td>0</td>\n",
       "      <td>0</td>\n",
       "      <td>0</td>\n",
       "      <td>0</td>\n",
       "      <td>0</td>\n",
       "      <td>0</td>\n",
       "      <td>0</td>\n",
       "      <td>1</td>\n",
       "      <td>0</td>\n",
       "      <td>0</td>\n",
       "    </tr>\n",
       "    <tr>\n",
       "      <th>3</th>\n",
       "      <td>1.057047</td>\n",
       "      <td>0.425801</td>\n",
       "      <td>-1.197459</td>\n",
       "      <td>-0.145920</td>\n",
       "      <td>-0.21666</td>\n",
       "      <td>-0.035429</td>\n",
       "      <td>0</td>\n",
       "      <td>0</td>\n",
       "      <td>0</td>\n",
       "      <td>0</td>\n",
       "      <td>...</td>\n",
       "      <td>0</td>\n",
       "      <td>0</td>\n",
       "      <td>0</td>\n",
       "      <td>0</td>\n",
       "      <td>0</td>\n",
       "      <td>0</td>\n",
       "      <td>0</td>\n",
       "      <td>1</td>\n",
       "      <td>0</td>\n",
       "      <td>0</td>\n",
       "    </tr>\n",
       "    <tr>\n",
       "      <th>4</th>\n",
       "      <td>-0.775768</td>\n",
       "      <td>1.408176</td>\n",
       "      <td>1.134739</td>\n",
       "      <td>-0.145920</td>\n",
       "      <td>-0.21666</td>\n",
       "      <td>-0.035429</td>\n",
       "      <td>0</td>\n",
       "      <td>0</td>\n",
       "      <td>0</td>\n",
       "      <td>0</td>\n",
       "      <td>...</td>\n",
       "      <td>0</td>\n",
       "      <td>0</td>\n",
       "      <td>0</td>\n",
       "      <td>0</td>\n",
       "      <td>0</td>\n",
       "      <td>0</td>\n",
       "      <td>0</td>\n",
       "      <td>0</td>\n",
       "      <td>0</td>\n",
       "      <td>0</td>\n",
       "    </tr>\n",
       "    <tr>\n",
       "      <th>...</th>\n",
       "      <td>...</td>\n",
       "      <td>...</td>\n",
       "      <td>...</td>\n",
       "      <td>...</td>\n",
       "      <td>...</td>\n",
       "      <td>...</td>\n",
       "      <td>...</td>\n",
       "      <td>...</td>\n",
       "      <td>...</td>\n",
       "      <td>...</td>\n",
       "      <td>...</td>\n",
       "      <td>...</td>\n",
       "      <td>...</td>\n",
       "      <td>...</td>\n",
       "      <td>...</td>\n",
       "      <td>...</td>\n",
       "      <td>...</td>\n",
       "      <td>...</td>\n",
       "      <td>...</td>\n",
       "      <td>...</td>\n",
       "      <td>...</td>\n",
       "    </tr>\n",
       "    <tr>\n",
       "      <th>32556</th>\n",
       "      <td>-0.849080</td>\n",
       "      <td>0.639741</td>\n",
       "      <td>0.746039</td>\n",
       "      <td>-0.145920</td>\n",
       "      <td>-0.21666</td>\n",
       "      <td>-0.197409</td>\n",
       "      <td>0</td>\n",
       "      <td>0</td>\n",
       "      <td>0</td>\n",
       "      <td>0</td>\n",
       "      <td>...</td>\n",
       "      <td>0</td>\n",
       "      <td>0</td>\n",
       "      <td>0</td>\n",
       "      <td>0</td>\n",
       "      <td>0</td>\n",
       "      <td>0</td>\n",
       "      <td>0</td>\n",
       "      <td>1</td>\n",
       "      <td>0</td>\n",
       "      <td>0</td>\n",
       "    </tr>\n",
       "    <tr>\n",
       "      <th>32557</th>\n",
       "      <td>0.103983</td>\n",
       "      <td>-0.335433</td>\n",
       "      <td>-0.420060</td>\n",
       "      <td>-0.145920</td>\n",
       "      <td>-0.21666</td>\n",
       "      <td>-0.035429</td>\n",
       "      <td>0</td>\n",
       "      <td>0</td>\n",
       "      <td>0</td>\n",
       "      <td>0</td>\n",
       "      <td>...</td>\n",
       "      <td>0</td>\n",
       "      <td>0</td>\n",
       "      <td>0</td>\n",
       "      <td>0</td>\n",
       "      <td>0</td>\n",
       "      <td>0</td>\n",
       "      <td>0</td>\n",
       "      <td>1</td>\n",
       "      <td>0</td>\n",
       "      <td>0</td>\n",
       "    </tr>\n",
       "    <tr>\n",
       "      <th>32558</th>\n",
       "      <td>1.423610</td>\n",
       "      <td>-0.358777</td>\n",
       "      <td>-0.420060</td>\n",
       "      <td>-0.145920</td>\n",
       "      <td>-0.21666</td>\n",
       "      <td>-0.035429</td>\n",
       "      <td>0</td>\n",
       "      <td>0</td>\n",
       "      <td>0</td>\n",
       "      <td>0</td>\n",
       "      <td>...</td>\n",
       "      <td>0</td>\n",
       "      <td>0</td>\n",
       "      <td>0</td>\n",
       "      <td>0</td>\n",
       "      <td>0</td>\n",
       "      <td>0</td>\n",
       "      <td>0</td>\n",
       "      <td>1</td>\n",
       "      <td>0</td>\n",
       "      <td>0</td>\n",
       "    </tr>\n",
       "    <tr>\n",
       "      <th>32559</th>\n",
       "      <td>-1.215643</td>\n",
       "      <td>0.110960</td>\n",
       "      <td>-0.420060</td>\n",
       "      <td>-0.145920</td>\n",
       "      <td>-0.21666</td>\n",
       "      <td>-1.655225</td>\n",
       "      <td>0</td>\n",
       "      <td>0</td>\n",
       "      <td>0</td>\n",
       "      <td>0</td>\n",
       "      <td>...</td>\n",
       "      <td>0</td>\n",
       "      <td>0</td>\n",
       "      <td>0</td>\n",
       "      <td>0</td>\n",
       "      <td>0</td>\n",
       "      <td>0</td>\n",
       "      <td>0</td>\n",
       "      <td>1</td>\n",
       "      <td>0</td>\n",
       "      <td>0</td>\n",
       "    </tr>\n",
       "    <tr>\n",
       "      <th>32560</th>\n",
       "      <td>0.983734</td>\n",
       "      <td>0.929893</td>\n",
       "      <td>-0.420060</td>\n",
       "      <td>1.888424</td>\n",
       "      <td>-0.21666</td>\n",
       "      <td>-0.035429</td>\n",
       "      <td>0</td>\n",
       "      <td>0</td>\n",
       "      <td>0</td>\n",
       "      <td>0</td>\n",
       "      <td>...</td>\n",
       "      <td>0</td>\n",
       "      <td>0</td>\n",
       "      <td>0</td>\n",
       "      <td>0</td>\n",
       "      <td>0</td>\n",
       "      <td>0</td>\n",
       "      <td>0</td>\n",
       "      <td>1</td>\n",
       "      <td>0</td>\n",
       "      <td>0</td>\n",
       "    </tr>\n",
       "  </tbody>\n",
       "</table>\n",
       "<p>32561 rows × 108 columns</p>\n",
       "</div>"
      ],
      "text/plain": [
       "            age    fnlwgt  education-num  capital-gain  capital-loss  \\\n",
       "0      0.030671 -1.063611       1.134739      0.148453      -0.21666   \n",
       "1      0.837109 -1.008707       1.134739     -0.145920      -0.21666   \n",
       "2     -0.042642  0.245079      -0.420060     -0.145920      -0.21666   \n",
       "3      1.057047  0.425801      -1.197459     -0.145920      -0.21666   \n",
       "4     -0.775768  1.408176       1.134739     -0.145920      -0.21666   \n",
       "...         ...       ...            ...           ...           ...   \n",
       "32556 -0.849080  0.639741       0.746039     -0.145920      -0.21666   \n",
       "32557  0.103983 -0.335433      -0.420060     -0.145920      -0.21666   \n",
       "32558  1.423610 -0.358777      -0.420060     -0.145920      -0.21666   \n",
       "32559 -1.215643  0.110960      -0.420060     -0.145920      -0.21666   \n",
       "32560  0.983734  0.929893      -0.420060      1.888424      -0.21666   \n",
       "\n",
       "       hours-per-week  workClass_ ?  workClass_ Federal-gov  \\\n",
       "0           -0.035429             0                       0   \n",
       "1           -2.222153             0                       0   \n",
       "2           -0.035429             0                       0   \n",
       "3           -0.035429             0                       0   \n",
       "4           -0.035429             0                       0   \n",
       "...               ...           ...                     ...   \n",
       "32556       -0.197409             0                       0   \n",
       "32557       -0.035429             0                       0   \n",
       "32558       -0.035429             0                       0   \n",
       "32559       -1.655225             0                       0   \n",
       "32560       -0.035429             0                       0   \n",
       "\n",
       "       workClass_ Local-gov  workClass_ Never-worked  ...  \\\n",
       "0                         0                        0  ...   \n",
       "1                         0                        0  ...   \n",
       "2                         0                        0  ...   \n",
       "3                         0                        0  ...   \n",
       "4                         0                        0  ...   \n",
       "...                     ...                      ...  ...   \n",
       "32556                     0                        0  ...   \n",
       "32557                     0                        0  ...   \n",
       "32558                     0                        0  ...   \n",
       "32559                     0                        0  ...   \n",
       "32560                     0                        0  ...   \n",
       "\n",
       "       native-country_ Portugal  native-country_ Puerto-Rico  \\\n",
       "0                             0                            0   \n",
       "1                             0                            0   \n",
       "2                             0                            0   \n",
       "3                             0                            0   \n",
       "4                             0                            0   \n",
       "...                         ...                          ...   \n",
       "32556                         0                            0   \n",
       "32557                         0                            0   \n",
       "32558                         0                            0   \n",
       "32559                         0                            0   \n",
       "32560                         0                            0   \n",
       "\n",
       "       native-country_ Scotland  native-country_ South  \\\n",
       "0                             0                      0   \n",
       "1                             0                      0   \n",
       "2                             0                      0   \n",
       "3                             0                      0   \n",
       "4                             0                      0   \n",
       "...                         ...                    ...   \n",
       "32556                         0                      0   \n",
       "32557                         0                      0   \n",
       "32558                         0                      0   \n",
       "32559                         0                      0   \n",
       "32560                         0                      0   \n",
       "\n",
       "       native-country_ Taiwan  native-country_ Thailand  \\\n",
       "0                           0                         0   \n",
       "1                           0                         0   \n",
       "2                           0                         0   \n",
       "3                           0                         0   \n",
       "4                           0                         0   \n",
       "...                       ...                       ...   \n",
       "32556                       0                         0   \n",
       "32557                       0                         0   \n",
       "32558                       0                         0   \n",
       "32559                       0                         0   \n",
       "32560                       0                         0   \n",
       "\n",
       "       native-country_ Trinadad&Tobago  native-country_ United-States  \\\n",
       "0                                    0                              1   \n",
       "1                                    0                              1   \n",
       "2                                    0                              1   \n",
       "3                                    0                              1   \n",
       "4                                    0                              0   \n",
       "...                                ...                            ...   \n",
       "32556                                0                              1   \n",
       "32557                                0                              1   \n",
       "32558                                0                              1   \n",
       "32559                                0                              1   \n",
       "32560                                0                              1   \n",
       "\n",
       "       native-country_ Vietnam  native-country_ Yugoslavia  \n",
       "0                            0                           0  \n",
       "1                            0                           0  \n",
       "2                            0                           0  \n",
       "3                            0                           0  \n",
       "4                            0                           0  \n",
       "...                        ...                         ...  \n",
       "32556                        0                           0  \n",
       "32557                        0                           0  \n",
       "32558                        0                           0  \n",
       "32559                        0                           0  \n",
       "32560                        0                           0  \n",
       "\n",
       "[32561 rows x 108 columns]"
      ]
     },
     "execution_count": 64,
     "metadata": {},
     "output_type": "execute_result"
    }
   ],
   "source": [
    "from sklearn.preprocessing import StandardScaler\n",
    "\n",
    "X[['age', 'fnlwgt', 'education-num', 'capital-gain', 'capital-loss', 'hours-per-week']]= StandardScaler().fit_transform(X[['age', 'fnlwgt', 'education-num', 'capital-gain', 'capital-loss', 'hours-per-week']])\n",
    "\n",
    "X"
   ]
  },
  {
   "cell_type": "code",
   "execution_count": 65,
   "metadata": {},
   "outputs": [
    {
     "name": "stdout",
     "output_type": "stream",
     "text": [
      "X_train shape: (19536, 108)\n",
      "X_test shape: (13025, 108)\n",
      "y_train shape: (19536,)\n",
      "y_test shape: (13025,)\n"
     ]
    }
   ],
   "source": [
    "X_train, X_test, y_train, y_test = train_test_split(X, y, test_size=0.4, shuffle=True, random_state=1004)\n",
    "print('X_train shape:', X_train.shape)\n",
    "print('X_test shape:', X_test.shape)\n",
    "print('y_train shape:', y_train.shape)\n",
    "print('y_test shape:', y_test.shape)"
   ]
  },
  {
   "cell_type": "markdown",
   "metadata": {},
   "source": [
    "### 결정트리"
   ]
  },
  {
   "cell_type": "code",
   "execution_count": 66,
   "metadata": {},
   "outputs": [
    {
     "name": "stdout",
     "output_type": "stream",
     "text": [
      "훈련 세트 정확도 :1.000\n",
      "테스트 세트 정확도 :0.817\n"
     ]
    }
   ],
   "source": [
    "from sklearn.tree import DecisionTreeClassifier\n",
    "dtc = DecisionTreeClassifier(random_state=0)\n",
    "dtc.fit(X_train, y_train)\n",
    "print(\"훈련 세트 정확도 :{:.3f}\".format(dtc.score(X_train, y_train)))\n",
    "print(\"테스트 세트 정확도 :{:.3f}\".format(dtc.score(X_test, y_test)))"
   ]
  },
  {
   "cell_type": "code",
   "execution_count": 67,
   "metadata": {},
   "outputs": [
    {
     "name": "stdout",
     "output_type": "stream",
     "text": [
      "훈련 세트 정확도 :0.855\n",
      "테스트 세트 정확도 :0.852\n"
     ]
    }
   ],
   "source": [
    "dtc = DecisionTreeClassifier(random_state=0,max_depth = 5)\n",
    "dtc.fit(X_train, y_train)\n",
    "print(\"훈련 세트 정확도 :{:.3f}\".format(dtc.score(X_train, y_train)))\n",
    "print(\"테스트 세트 정확도 :{:.3f}\".format(dtc.score(X_test, y_test)))"
   ]
  },
  {
   "cell_type": "markdown",
   "metadata": {},
   "source": [
    "### 랜덤포레스트"
   ]
  },
  {
   "cell_type": "code",
   "execution_count": 68,
   "metadata": {},
   "outputs": [
    {
     "name": "stdout",
     "output_type": "stream",
     "text": [
      "훈련 세트 정확도 :1.000\n",
      "테스트 세트 정확도 :0.857\n"
     ]
    }
   ],
   "source": [
    "from sklearn.ensemble import RandomForestClassifier\n",
    "rfc = RandomForestClassifier(random_state=0)\n",
    "rfc.fit(X_train, y_train)\n",
    "print(\"훈련 세트 정확도 :{:.3f}\".format(rfc.score(X_train, y_train)))\n",
    "print(\"테스트 세트 정확도 :{:.3f}\".format(rfc.score(X_test, y_test)))"
   ]
  },
  {
   "cell_type": "code",
   "execution_count": 69,
   "metadata": {},
   "outputs": [
    {
     "name": "stdout",
     "output_type": "stream",
     "text": [
      "훈련 세트 정확도 :0.962\n",
      "테스트 세트 정확도 :0.834\n"
     ]
    }
   ],
   "source": [
    "rfc = RandomForestClassifier(random_state=0, n_estimators =4)\n",
    "rfc.fit(X_train, y_train)\n",
    "print(\"훈련 세트 정확도 :{:.3f}\".format(rfc.score(X_train, y_train)))\n",
    "print(\"테스트 세트 정확도 :{:.3f}\".format(rfc.score(X_test, y_test)))"
   ]
  },
  {
   "cell_type": "markdown",
   "metadata": {},
   "source": [
    "### LDA"
   ]
  },
  {
   "cell_type": "code",
   "execution_count": 70,
   "metadata": {},
   "outputs": [
    {
     "name": "stdout",
     "output_type": "stream",
     "text": [
      "훈련 세트 정확도 :0.844\n",
      "테스트 세트 정확도 :0.838\n"
     ]
    }
   ],
   "source": [
    "from sklearn.discriminant_analysis import LinearDiscriminantAnalysis\n",
    "lda = LinearDiscriminantAnalysis()\n",
    "lda.fit(X_train, y_train)\n",
    "print(\"훈련 세트 정확도 :{:.3f}\".format(lda.score(X_train, y_train)))\n",
    "print(\"테스트 세트 정확도 :{:.3f}\".format(lda.score(X_test, y_test)))"
   ]
  },
  {
   "cell_type": "markdown",
   "metadata": {},
   "source": [
    "### KNN"
   ]
  },
  {
   "cell_type": "code",
   "execution_count": 71,
   "metadata": {},
   "outputs": [
    {
     "name": "stdout",
     "output_type": "stream",
     "text": [
      "훈련 세트 정확도 :0.880\n",
      "테스트 세트 정확도 :0.835\n"
     ]
    }
   ],
   "source": [
    "from sklearn.neighbors import KNeighborsClassifier\n",
    "knn = KNeighborsClassifier()\n",
    "knn.fit(X_train, y_train)\n",
    "print(\"훈련 세트 정확도 :{:.3f}\".format(knn.score(X_train, y_train)))\n",
    "print(\"테스트 세트 정확도 :{:.3f}\".format(knn.score(X_test, y_test)))"
   ]
  },
  {
   "cell_type": "markdown",
   "metadata": {},
   "source": [
    "### SVC"
   ]
  },
  {
   "cell_type": "code",
   "execution_count": 72,
   "metadata": {},
   "outputs": [
    {
     "name": "stdout",
     "output_type": "stream",
     "text": [
      "훈련 세트 정확도 :0.867\n",
      "테스트 세트 정확도 :0.856\n"
     ]
    }
   ],
   "source": [
    "from sklearn.svm import SVC\n",
    "svm = SVC()\n",
    "svm.fit(X_train, y_train)\n",
    "print(\"훈련 세트 정확도 :{:.3f}\".format(svm.score(X_train, y_train)))\n",
    "print(\"테스트 세트 정확도 :{:.3f}\".format(svm.score(X_test, y_test)))"
   ]
  },
  {
   "cell_type": "markdown",
   "metadata": {},
   "source": [
    "### 검증"
   ]
  },
  {
   "cell_type": "code",
   "execution_count": 73,
   "metadata": {},
   "outputs": [],
   "source": [
    "from sklearn.model_selection import cross_val_score\n",
    "dtc_score4 = cross_val_score(dtc, X_train, y_train, cv=5, scoring= 'accuracy')\n",
    "rfc_score4 =cross_val_score(rfc, X_train, y_train, cv=5, scoring= 'accuracy')\n",
    "lda_score4 = cross_val_score(lda, X_train, y_train, cv=5, scoring= 'accuracy')\n",
    "knn_score4 =cross_val_score(knn, X_train, y_train, cv=5, scoring= 'accuracy')\n",
    "svm_score4 = cross_val_score(svm, X_train, y_train, cv=5, scoring= 'accuracy')"
   ]
  },
  {
   "cell_type": "code",
   "execution_count": 74,
   "metadata": {},
   "outputs": [],
   "source": [
    "score4 = pd.DataFrame({\n",
    "    'lda_score_4' : lda_score4, 'dtc_score_4': dtc_score4, 'rfc_score_4': rfc_score4, 'knn_score_4' : knn_score4, 'svm_score_4' :svm_score4})"
   ]
  },
  {
   "cell_type": "code",
   "execution_count": 75,
   "metadata": {},
   "outputs": [
    {
     "data": {
      "text/plain": [
       "<AxesSubplot:>"
      ]
     },
     "execution_count": 75,
     "metadata": {},
     "output_type": "execute_result"
    },
    {
     "data": {
      "image/png": "[encoded data removed]",
      "text/plain": [
       "<Figure size 432x288 with 1 Axes>"
      ]
     },
     "metadata": {
      "needs_background": "light"
     },
     "output_type": "display_data"
    }
   ],
   "source": [
    "sns.boxplot(data = score4)"
   ]
  },
  {
   "cell_type": "markdown",
   "metadata": {},
   "source": [
    "### 전체 검증 비교"
   ]
  },
  {
   "cell_type": "code",
   "execution_count": 163,
   "metadata": {
    "scrolled": true
   },
   "outputs": [
    {
     "data": {
      "image/png": "[encoded data removed]",
      "text/plain": [
       "<Figure size 432x288 with 1 Axes>"
      ]
     },
     "metadata": {
      "needs_background": "light"
     },
     "output_type": "display_data"
    }
   ],
   "source": [
    "sns.boxplot(data = score1, color='gray', ) # 연속형 데이터만\n",
    "sns.boxplot(data = score2, color = 'blue') # 원핫코딩 후 모든 데이터\n",
    "sns.boxplot(data = score3, color = 'red') # 원핫코딩 + minmax 스케일링\n",
    "sns.boxplot(data = score4, color = 'yellow') # 원핫코딩 + standardscaler\n",
    "plt.grid(axis='y')\n"
   ]
  },
  {
   "cell_type": "markdown",
   "metadata": {},
   "source": [
    "### 원핫코딩 + StandardScaler 한 SVM 모델이 가장 좋은 정확도을 보여줬다."
   ]
  },
  {
   "cell_type": "markdown",
   "metadata": {},
   "source": [
    "### 신경망"
   ]
  },
  {
   "cell_type": "code",
   "execution_count": 78,
   "metadata": {},
   "outputs": [],
   "source": [
    "### %matplotlib inline\n",
    "import matplotlib.pyplot as plt\n",
    "import numpy as np\n",
    "import pandas as pd\n",
    "from keras.layers import *\n",
    "from keras.models import *\n",
    "from keras.utils import *\n",
    "from sklearn.preprocessing import *\n",
    "import seaborn as sns"
   ]
  },
  {
   "cell_type": "code",
   "execution_count": 79,
   "metadata": {},
   "outputs": [],
   "source": [
    "columns = [\"age\", \"workClass\", \"fnlwgt\", \"education\", \"education-num\",\"marital-status\", \"occupation\", \"relationship\",\n",
    "          \"race\", \"sex\", \"capital-gain\", \"capital-loss\", \"hours-per-week\", \"native-country\", \"income\"]\n",
    "train_data = pd.read_csv('data/adult.data', names=columns)\n",
    "#test_data  = pd.read_csv('data/adult.test', names=columns)"
   ]
  },
  {
   "cell_type": "raw",
   "metadata": {},
   "source": [
    "test_data = test_data[1:]"
   ]
  },
  {
   "cell_type": "code",
   "execution_count": 80,
   "metadata": {},
   "outputs": [],
   "source": [
    "y_train = train_data['income'].values.tolist()\n",
    "y_train = [1 if i == ' <=50K' else 0 for i in y_train]\n",
    "y_train = to_categorical(y_train)"
   ]
  },
  {
   "cell_type": "code",
   "execution_count": 81,
   "metadata": {},
   "outputs": [],
   "source": [
    "X_train = train_data.drop(['age', 'fnlwgt', 'education-num', 'capital-gain', 'capital-loss', 'hours-per-week', 'income'], axis=1)\n",
    "X_train = pd.get_dummies(X_train, drop_first=True)\n",
    "X_train = pd.concat([X_train, train_data[['age', 'fnlwgt', 'education-num', 'capital-gain', 'capital-loss', 'hours-per-week']]], axis=1)\n",
    "\n",
    "scaler = StandardScaler()\n",
    "X_train[['age', 'fnlwgt', 'education-num', 'capital-gain', 'capital-loss', 'hours-per-week']] = scaler.fit_transform(X_train[['age', 'fnlwgt', 'education-num', 'capital-gain', 'capital-loss', 'hours-per-week']])"
   ]
  },
  {
   "cell_type": "raw",
   "metadata": {},
   "source": [
    "y_test = test_data['income'].values.tolist()\n",
    "y_test = [1 if i == ' <=50K' else 0 for i in test_data]\n",
    "y_test = to_categorical(y_test)"
   ]
  },
  {
   "cell_type": "raw",
   "metadata": {},
   "source": [
    "X_test = test_data.drop(['age', 'fnlwgt', 'education-num', 'capital-gain', 'capital-loss', 'hours-per-week', 'income'], axis=1)\n",
    "X_test = pd.get_dummies(X_train, drop_first=True)\n",
    "X_test = pd.concat([X_test, test_data[['age', 'fnlwgt', 'education-num', 'capital-gain', 'capital-loss', 'hours-per-week']]], axis=1)\n",
    "\n",
    "scaler = ()\n",
    "X_test[['age', 'fnlwgt', 'education-num', 'capital-gain', 'capital-loss', 'hours-per-week']] = scaler.fit_transform(X_test[['age', 'fnlwgt', 'education-num', 'capital-gain', 'capital-loss', 'hours-per-week']])"
   ]
  },
  {
   "cell_type": "raw",
   "metadata": {},
   "source": [
    "print(X_train.shape)\n",
    "print(y_train.shape)\n",
    "print(X_test.shape)\n",
    "print(y_test.shape)"
   ]
  },
  {
   "cell_type": "code",
   "execution_count": 82,
   "metadata": {},
   "outputs": [],
   "source": [
    "X_train = X_train[:-1000]\n",
    "x_test = X_train[-1000:]\n",
    "\n",
    "y_train = y_train[:-1000]\n",
    "y_test = y_train[-1000:]"
   ]
  },
  {
   "cell_type": "code",
   "execution_count": 83,
   "metadata": {
    "scrolled": true
   },
   "outputs": [
    {
     "name": "stdout",
     "output_type": "stream",
     "text": [
      "Model: \"sequential\"\n",
      "_________________________________________________________________\n",
      "Layer (type)                 Output Shape              Param #   \n",
      "=================================================================\n",
      "dense (Dense)                (None, 1024)              103424    \n",
      "_________________________________________________________________\n",
      "dense_1 (Dense)              (None, 512)               524800    \n",
      "_________________________________________________________________\n",
      "dense_2 (Dense)              (None, 128)               65664     \n",
      "_________________________________________________________________\n",
      "dense_3 (Dense)              (None, 2)                 258       \n",
      "=================================================================\n",
      "Total params: 694,146\n",
      "Trainable params: 694,146\n",
      "Non-trainable params: 0\n",
      "_________________________________________________________________\n",
      "Epoch 1/50\n",
      "789/789 [==============================] - 4s 5ms/step - loss: 0.3780 - acc: 0.8258 - val_loss: 0.3249 - val_acc: 0.8490\n",
      "Epoch 2/50\n",
      "789/789 [==============================] - 3s 4ms/step - loss: 0.3189 - acc: 0.8521 - val_loss: 0.3144 - val_acc: 0.8533\n",
      "Epoch 3/50\n",
      "789/789 [==============================] - 3s 4ms/step - loss: 0.3120 - acc: 0.8539 - val_loss: 0.3099 - val_acc: 0.8578\n",
      "Epoch 4/50\n",
      "789/789 [==============================] - 3s 4ms/step - loss: 0.3077 - acc: 0.8574 - val_loss: 0.3095 - val_acc: 0.8547\n",
      "Epoch 5/50\n",
      "789/789 [==============================] - 3s 4ms/step - loss: 0.3057 - acc: 0.8580 - val_loss: 0.3082 - val_acc: 0.8546\n",
      "Epoch 6/50\n",
      "789/789 [==============================] - 3s 4ms/step - loss: 0.3040 - acc: 0.8587 - val_loss: 0.3149 - val_acc: 0.8519\n",
      "Epoch 7/50\n",
      "789/789 [==============================] - 3s 4ms/step - loss: 0.3028 - acc: 0.8597 - val_loss: 0.3099 - val_acc: 0.8563\n",
      "Epoch 8/50\n",
      "789/789 [==============================] - 4s 5ms/step - loss: 0.3012 - acc: 0.8612 - val_loss: 0.3068 - val_acc: 0.8585\n",
      "Epoch 9/50\n",
      "789/789 [==============================] - 4s 5ms/step - loss: 0.3000 - acc: 0.8618 - val_loss: 0.3079 - val_acc: 0.8563\n",
      "Epoch 10/50\n",
      "789/789 [==============================] - 4s 4ms/step - loss: 0.2986 - acc: 0.8615 - val_loss: 0.3061 - val_acc: 0.8589\n",
      "Epoch 11/50\n",
      "789/789 [==============================] - 3s 4ms/step - loss: 0.2981 - acc: 0.8621 - val_loss: 0.3091 - val_acc: 0.8589\n",
      "Epoch 12/50\n",
      "789/789 [==============================] - 3s 4ms/step - loss: 0.2966 - acc: 0.8630 - val_loss: 0.3110 - val_acc: 0.8535\n",
      "Epoch 13/50\n",
      "789/789 [==============================] - 4s 4ms/step - loss: 0.2956 - acc: 0.8628 - val_loss: 0.3067 - val_acc: 0.8576\n",
      "Epoch 14/50\n",
      "789/789 [==============================] - 4s 5ms/step - loss: 0.2943 - acc: 0.8646 - val_loss: 0.3110 - val_acc: 0.8549\n",
      "Epoch 15/50\n",
      "789/789 [==============================] - 4s 5ms/step - loss: 0.2940 - acc: 0.8655 - val_loss: 0.3069 - val_acc: 0.8566\n",
      "Epoch 16/50\n",
      "789/789 [==============================] - 3s 4ms/step - loss: 0.2925 - acc: 0.8642 - val_loss: 0.3090 - val_acc: 0.8551\n",
      "Epoch 17/50\n",
      "789/789 [==============================] - 4s 5ms/step - loss: 0.2909 - acc: 0.8664 - val_loss: 0.3054 - val_acc: 0.8563\n",
      "Epoch 18/50\n",
      "789/789 [==============================] - 4s 4ms/step - loss: 0.2908 - acc: 0.8664 - val_loss: 0.3062 - val_acc: 0.8585\n",
      "Epoch 19/50\n",
      "789/789 [==============================] - 4s 5ms/step - loss: 0.2893 - acc: 0.8680 - val_loss: 0.3063 - val_acc: 0.8584\n",
      "Epoch 20/50\n",
      "789/789 [==============================] - 3s 4ms/step - loss: 0.2876 - acc: 0.8689 - val_loss: 0.3085 - val_acc: 0.8559\n",
      "Epoch 21/50\n",
      "789/789 [==============================] - 3s 4ms/step - loss: 0.2872 - acc: 0.8689 - val_loss: 0.3072 - val_acc: 0.8568\n",
      "Epoch 22/50\n",
      "789/789 [==============================] - 3s 4ms/step - loss: 0.2866 - acc: 0.8676 - val_loss: 0.3088 - val_acc: 0.8559\n",
      "Epoch 23/50\n",
      "789/789 [==============================] - 3s 4ms/step - loss: 0.2860 - acc: 0.8675 - val_loss: 0.3073 - val_acc: 0.8581\n",
      "Epoch 24/50\n",
      "789/789 [==============================] - 3s 4ms/step - loss: 0.2850 - acc: 0.8680 - val_loss: 0.3107 - val_acc: 0.8552\n",
      "Epoch 25/50\n",
      "789/789 [==============================] - 3s 4ms/step - loss: 0.2831 - acc: 0.8689 - val_loss: 0.3074 - val_acc: 0.8552\n",
      "Epoch 26/50\n",
      "789/789 [==============================] - 3s 4ms/step - loss: 0.2824 - acc: 0.8695 - val_loss: 0.3074 - val_acc: 0.8578\n",
      "Epoch 27/50\n",
      "789/789 [==============================] - 3s 4ms/step - loss: 0.2814 - acc: 0.8676 - val_loss: 0.3108 - val_acc: 0.8581\n",
      "Epoch 28/50\n",
      "789/789 [==============================] - 3s 4ms/step - loss: 0.2807 - acc: 0.8691 - val_loss: 0.3149 - val_acc: 0.8552\n",
      "Epoch 29/50\n",
      "789/789 [==============================] - 3s 4ms/step - loss: 0.2792 - acc: 0.8711 - val_loss: 0.3195 - val_acc: 0.8522\n",
      "Epoch 30/50\n",
      "789/789 [==============================] - 3s 4ms/step - loss: 0.2778 - acc: 0.8722 - val_loss: 0.3097 - val_acc: 0.8565\n",
      "Epoch 31/50\n",
      "789/789 [==============================] - 3s 4ms/step - loss: 0.2778 - acc: 0.8729 - val_loss: 0.3164 - val_acc: 0.8574\n",
      "Epoch 32/50\n",
      "789/789 [==============================] - 3s 4ms/step - loss: 0.2758 - acc: 0.8721 - val_loss: 0.3078 - val_acc: 0.8536\n",
      "Epoch 33/50\n",
      "789/789 [==============================] - 3s 4ms/step - loss: 0.2749 - acc: 0.8734 - val_loss: 0.3150 - val_acc: 0.8505\n",
      "Epoch 34/50\n",
      "789/789 [==============================] - 3s 4ms/step - loss: 0.2742 - acc: 0.8733 - val_loss: 0.3114 - val_acc: 0.8582\n",
      "Epoch 35/50\n",
      "789/789 [==============================] - 3s 4ms/step - loss: 0.2726 - acc: 0.8744 - val_loss: 0.3105 - val_acc: 0.8581\n",
      "Epoch 36/50\n",
      "789/789 [==============================] - 3s 4ms/step - loss: 0.2719 - acc: 0.8750 - val_loss: 0.3149 - val_acc: 0.8536\n",
      "Epoch 37/50\n",
      "789/789 [==============================] - 3s 4ms/step - loss: 0.2707 - acc: 0.8750 - val_loss: 0.3180 - val_acc: 0.8559\n",
      "Epoch 38/50\n",
      "789/789 [==============================] - 3s 4ms/step - loss: 0.2690 - acc: 0.8758 - val_loss: 0.3159 - val_acc: 0.8576\n",
      "Epoch 39/50\n",
      "789/789 [==============================] - 3s 4ms/step - loss: 0.2688 - acc: 0.8755 - val_loss: 0.3123 - val_acc: 0.8562\n",
      "Epoch 40/50\n",
      "789/789 [==============================] - 3s 4ms/step - loss: 0.2666 - acc: 0.8775 - val_loss: 0.3299 - val_acc: 0.8530\n",
      "Epoch 41/50\n",
      "789/789 [==============================] - 3s 4ms/step - loss: 0.2664 - acc: 0.8764 - val_loss: 0.3142 - val_acc: 0.8549\n",
      "Epoch 42/50\n",
      "789/789 [==============================] - 3s 4ms/step - loss: 0.2638 - acc: 0.8782 - val_loss: 0.3171 - val_acc: 0.8532\n",
      "Epoch 43/50\n",
      "789/789 [==============================] - 3s 4ms/step - loss: 0.2628 - acc: 0.8785 - val_loss: 0.3147 - val_acc: 0.8544\n",
      "Epoch 44/50\n",
      "789/789 [==============================] - 3s 4ms/step - loss: 0.2626 - acc: 0.8789 - val_loss: 0.3146 - val_acc: 0.8541\n",
      "Epoch 45/50\n",
      "789/789 [==============================] - 3s 4ms/step - loss: 0.2607 - acc: 0.8787 - val_loss: 0.3250 - val_acc: 0.8530\n",
      "Epoch 46/50\n",
      "789/789 [==============================] - 3s 4ms/step - loss: 0.2592 - acc: 0.8798 - val_loss: 0.3250 - val_acc: 0.8517\n",
      "Epoch 47/50\n",
      "789/789 [==============================] - 3s 4ms/step - loss: 0.2576 - acc: 0.8807 - val_loss: 0.3166 - val_acc: 0.8527\n",
      "Epoch 48/50\n",
      "789/789 [==============================] - 3s 4ms/step - loss: 0.2571 - acc: 0.8815 - val_loss: 0.3334 - val_acc: 0.8492\n",
      "Epoch 49/50\n",
      "789/789 [==============================] - 3s 4ms/step - loss: 0.2545 - acc: 0.8842 - val_loss: 0.3204 - val_acc: 0.8502\n",
      "Epoch 50/50\n",
      "789/789 [==============================] - 3s 4ms/step - loss: 0.2542 - acc: 0.8831 - val_loss: 0.3246 - val_acc: 0.8522\n"
     ]
    }
   ],
   "source": [
    "model = Sequential()\n",
    "model.add(Dense(1024, activation='relu', input_shape=(100,)))\n",
    "model.add(Dense(512, activation='relu'))\n",
    "model.add(Dense(128, activation='relu'))\n",
    "model.add(Dense(2, activation='softmax'))\n",
    "model.summary()\n",
    "\n",
    "model.compile(loss='categorical_crossentropy', optimizer='sgd', metrics=['acc'])\n",
    "\n",
    "hist = model.fit(X_train, y_train, epochs=50, validation_split=0.2)"
   ]
  },
  {
   "cell_type": "code",
   "execution_count": 84,
   "metadata": {
    "scrolled": false
   },
   "outputs": [
    {
     "data": {
      "image/png": "[encoded data removed]",
      "text/plain": [
       "<Figure size 720x720 with 2 Axes>"
      ]
     },
     "metadata": {
      "needs_background": "light"
     },
     "output_type": "display_data"
    }
   ],
   "source": [
    "plt.figure(figsize=(10,10))\n",
    "plt.subplot(1,2,1)\n",
    "\n",
    "plt.plot(hist.history['acc'], color='r', label = 'acc')\n",
    "plt.plot(hist.history['val_acc'], color='b', label = 'val_acc')\n",
    "plt.title('acc')\n",
    "plt.legend()\n",
    "\n",
    "plt.subplot(1,2,2)\n",
    "plt.plot(hist.history['loss'], color='r', label = 'acc')\n",
    "plt.plot(hist.history['val_loss'], color='b', label = 'val_acc')\n",
    "plt.title('loss')\n",
    "plt.legend()\n",
    "\n",
    "plt.show()"
   ]
  },
  {
   "cell_type": "code",
   "execution_count": 85,
   "metadata": {},
   "outputs": [
    {
     "name": "stdout",
     "output_type": "stream",
     "text": [
      "32/32 [==============================] - 0s 2ms/step - loss: 0.3373 - acc: 0.8510\n"
     ]
    }
   ],
   "source": [
    "scores = model.evaluate(x_test, y_test)"
   ]
  },
  {
   "cell_type": "code",
   "execution_count": 86,
   "metadata": {},
   "outputs": [
    {
     "data": {
      "text/plain": [
       "MLPClassifier(hidden_layer_sizes=(10, 10, 10), max_iter=500)"
      ]
     },
     "execution_count": 86,
     "metadata": {},
     "output_type": "execute_result"
    }
   ],
   "source": [
    "from sklearn.neural_network import MLPClassifier\n",
    "mlp = MLPClassifier(hidden_layer_sizes=(10,10,10),max_iter=500) #모델 만들기\n",
    "mlp.fit(X_train,y_train)"
   ]
  },
  {
   "cell_type": "code",
   "execution_count": 87,
   "metadata": {},
   "outputs": [
    {
     "data": {
      "text/plain": [
       "array([[0, 1],\n",
       "       [0, 1],\n",
       "       [0, 1],\n",
       "       ...,\n",
       "       [0, 1],\n",
       "       [1, 0],\n",
       "       [0, 1]])"
      ]
     },
     "execution_count": 87,
     "metadata": {},
     "output_type": "execute_result"
    }
   ],
   "source": [
    "y_pred = mlp.predict(x_test)\n",
    "y_pred"
   ]
  },
  {
   "cell_type": "code",
   "execution_count": 88,
   "metadata": {},
   "outputs": [
    {
     "name": "stdout",
     "output_type": "stream",
     "text": [
      "훈련 세트 정확도 : 0.8740851050346947\n",
      "테스트 세트 정확도 : 0.87\n"
     ]
    }
   ],
   "source": [
    "print(f\"훈련 세트 정확도 : {mlp.score(X_train, y_train)}\")\n",
    "print(f\"테스트 세트 정확도 : {mlp.score(x_test, y_test)}\")"
   ]
  },
  {
   "cell_type": "markdown",
   "metadata": {},
   "source": [
    "### 가중치 히트맵"
   ]
  },
  {
   "cell_type": "code",
   "execution_count": 89,
   "metadata": {
    "scrolled": false
   },
   "outputs": [
    {
     "name": "stderr",
     "output_type": "stream",
     "text": [
      "C:\\Users\\tmspr\\Anaconda3\\lib\\site-packages\\matplotlib\\backends\\backend_agg.py:238: RuntimeWarning: Glyph 8722 missing from current font.\n",
      "  font.set_text(s, 0.0, flags=flags)\n",
      "C:\\Users\\tmspr\\Anaconda3\\lib\\site-packages\\matplotlib\\backends\\backend_agg.py:201: RuntimeWarning: Glyph 8722 missing from current font.\n",
      "  font.set_text(s, 0, flags=flags)\n"
     ]
    },
    {
     "data": {
      "image/png": "[encoded data removed]",
      "text/plain": [
       "<Figure size 720x1440 with 2 Axes>"
      ]
     },
     "metadata": {
      "needs_background": "light"
     },
     "output_type": "display_data"
    }
   ],
   "source": [
    "from matplotlib import font_manager, rc\n",
    "font_name = font_manager.FontProperties(fname=\"c:/Windows/Fonts/malgun.ttf\").get_name()\n",
    "rc('font', family=font_name)\n",
    "\n",
    "plt.figure(figsize = (10,20))\n",
    "plt.imshow(mlp.coefs_[0], interpolation='none', cmap = 'viridis')\n",
    "plt.yticks(range(100), X_train.columns)\n",
    "plt.xlabel(\"은닉 유닛\")\n",
    "plt.ylabel(\"입력 특성\")\n",
    "plt.colorbar()\n",
    "plt.show()"
   ]
  },
  {
   "cell_type": "code",
   "execution_count": 90,
   "metadata": {},
   "outputs": [
    {
     "data": {
      "text/plain": [
       "MLPClassifier(max_iter=500)"
      ]
     },
     "execution_count": 90,
     "metadata": {},
     "output_type": "execute_result"
    }
   ],
   "source": [
    "from sklearn.neural_network import MLPClassifier\n",
    "mlp = MLPClassifier(max_iter=500) #모델 만들기\n",
    "mlp.fit(X_train,y_train)"
   ]
  },
  {
   "cell_type": "code",
   "execution_count": 91,
   "metadata": {},
   "outputs": [
    {
     "data": {
      "text/plain": [
       "array([[0, 1],\n",
       "       [1, 0],\n",
       "       [0, 1],\n",
       "       ...,\n",
       "       [1, 0],\n",
       "       [1, 0],\n",
       "       [0, 1]])"
      ]
     },
     "execution_count": 91,
     "metadata": {},
     "output_type": "execute_result"
    }
   ],
   "source": [
    "y_pred = mlp.predict(x_test)\n",
    "y_pred"
   ]
  },
  {
   "cell_type": "code",
   "execution_count": 92,
   "metadata": {},
   "outputs": [
    {
     "name": "stdout",
     "output_type": "stream",
     "text": [
      "훈련 세트 정확도 : 0.9113779664776148\n",
      "테스트 세트 정확도 : 0.908\n"
     ]
    }
   ],
   "source": [
    "print(f\"훈련 세트 정확도 : {mlp.score(X_train, y_train)}\")\n",
    "print(f\"테스트 세트 정확도 : {mlp.score(x_test, y_test)}\")"
   ]
  },
  {
   "cell_type": "markdown",
   "metadata": {},
   "source": [
    "### 가중치 히트맵"
   ]
  },
  {
   "cell_type": "code",
   "execution_count": 93,
   "metadata": {
    "scrolled": false
   },
   "outputs": [
    {
     "name": "stderr",
     "output_type": "stream",
     "text": [
      "C:\\Users\\tmspr\\Anaconda3\\lib\\site-packages\\matplotlib\\backends\\backend_agg.py:238: RuntimeWarning: Glyph 8722 missing from current font.\n",
      "  font.set_text(s, 0.0, flags=flags)\n",
      "C:\\Users\\tmspr\\Anaconda3\\lib\\site-packages\\matplotlib\\backends\\backend_agg.py:201: RuntimeWarning: Glyph 8722 missing from current font.\n",
      "  font.set_text(s, 0, flags=flags)\n"
     ]
    },
    {
     "data": {
      "image/png": "[encoded data removed]",
      "text/plain": [
       "<Figure size 1440x2880 with 2 Axes>"
      ]
     },
     "metadata": {
      "needs_background": "light"
     },
     "output_type": "display_data"
    }
   ],
   "source": [
    "from matplotlib import font_manager, rc\n",
    "font_name = font_manager.FontProperties(fname=\"c:/Windows/Fonts/malgun.ttf\").get_name()\n",
    "rc('font', family=font_name)\n",
    "\n",
    "plt.figure(figsize = (20,40))\n",
    "plt.imshow(mlp.coefs_[0], interpolation='none', cmap = 'viridis')\n",
    "plt.yticks(range(100), X_train.columns)\n",
    "plt.xlabel(\"은닉 유닛\")\n",
    "plt.ylabel(\"입력 특성\")\n",
    "plt.colorbar()\n",
    "plt.show()"
   ]
  },
  {
   "cell_type": "markdown",
   "metadata": {},
   "source": [
    "# Conclusions and decisions 결론 및 의사결정"
   ]
  },
  {
   "cell_type": "raw",
   "metadata": {},
   "source": [
    "결론\n",
    "\n",
    "lda, dtc, rfc, knn, svm을 활용한 분류\n",
    "1. 연속형 데이터로만 학습했을 때 lda, dtc, rfc, knn, svm 모두 대체로 낮은 정확도가 나옴\n",
    "2. 원핫 코딩 후 모든 데이터를 사용했을때 lda, dtc, rfc 훈련 모델에서 정확도가 상승함\n",
    "3. 원핫 코딩 후 MinMAx 스케일링을 했을때 knn, svm에서 정확도가 상승, 특히 knn에서 많은 정확도가 상승했다.\n",
    "4. 원핫 코딩 후 StandardScaler를 사용했을 때, knn, svm에서 정확도가 상승했고, svm에서 많은 정확도가 상승했다.\n",
    "5. 1,2,3,4 과정에서 원핫 코딩후 StandardScaler를 사용한 svm모델이 약 86%로 가장 높은 정확도를 보였다.\n",
    " => knn과 svm은 데이터 포인트들간의 거리를 이용하여 분류하는 방법이기 때문에 스케일링 훈에 정확도가 많이 상승한 것 같음.\n",
    " 예를 들의 (0.1, 4000)의 거리와 (0.8, 4000)의 함수 값차이가 거의 없으므로 민감도가 낮고 정확도가 떨어진다.\n",
    "\n",
    "신경망을 만들어 훈련을 해보았습니다.\n",
    "2개를 분류하는 문제에서 경사 손실 문제로 인해 ReLu 활성화 함수를 사용하였습니다.\n",
    "1. 데이터는 train세트만 사용하였습니다, 왜냐하면 test세트의 범주형 데이터에 훈련세트에 없는 범주형데이터가 있어서 원핫코딩을 하면 칼럼개수가 맞지 않아 훈련이 되지 않는 현상이 있었습니다.\n",
    "2. 입력층 - 2개의 은닉층 - 출력층으로 구성되어 있고 총 50번 훈련시켰습니다.\n",
    "3. test세트로 정확도 검증을 해본 결과 약 86.3%의 정확도를 보였습니다.\n",
    "\n",
    "마지막으로 강의 마지막부분에 있는 다층퍼셉트론으로 학습을 진행해보았습니다.\n",
    "위의 신경망과 똑같은 훈련세트와 테스트세트로 진행하였습니다.\n",
    "경사하강법 알고리즘의 종류 : 시그모이드 함수\n",
    "활성화 함수 : ReLu\n",
    "은닉층의 크기 : (10, 10, 10)\n",
    "L2규제 : 0.0001\n",
    "배치크기 : 200\n",
    "max_iter : 500\n",
    "훈련정확도 :0.914\n",
    "테스트 정확도 : 0.92\n",
    "훈련 정확도 : 약 87% \n",
    "테스트 정확도 :약 89.3%\n",
    "\n",
    "다층퍼셉트론에 은닉층에 대한 값을 넣지 않고 훈련을 하였습니다. \n",
    "경사하강법 알고리즘의 종류 : 시그모이드 함수\n",
    "활성화 함수 : ReLu\n",
    "은닉층의 크기 : (100, )\n",
    "L2규제 : 0.0001\n",
    "배치크기 : 200\n",
    "max_iter : 500\n",
    "훈련정확도 :0.914\n",
    "테스트 정확도 : 0.92\n",
    "\n",
    "가장 높은 정확도를 보이는 모델이었습니다."
   ]
  },
  {
   "cell_type": "raw",
   "metadata": {},
   "source": [
    "부족했던점 : 어떻게 신경망을 구성해야될지 몰라서 학습에 있어서 정확도를 높이지 못했던 것 같습니다. 사이킷런의 다층퍼셉트론분류기에 비해 테스트 정확도를 유의미하게 높이지 못한 것 같습니다. 결측치는 놔둔채로 학습. 플랏을 그리는 방법 미숙\n",
    "\n",
    "배운것과 앞으로 공부할 방향 : 훈련하기 전에 어떻게 데이터를 전처리해야 하는지, 분류문제에서 어떤 활성화 함수를 사용해야되는지에 대해서 많이 고민하였습니다. 원핫코딩이 어떤 개념인지 몰라서 많이 헤매었는데 알고보니 생각보다 많이 간단한 개념이었습니다. 그리고 신경망을 구성할때 어떤 활성화 함수를 사용할지 몰라서 2진 분류에 많이 쓴다는 ReLu함수를 썻보았습니다. 그럼에도 정확도가 유의미하게 상승하지 않습니다. 어떤 문제인지 솔직히 잘모르겠습니다. 추측은 정확한 활성화 함수를 사용하지 못한 것 같습니다. 아니면 과대적합 문제인가? 훈련세트의 정확도는 올라가는데 그와 반대로 테스트 정확도는 떨어지는데 해당 이유와 해결방법을 좀 더 알아보고 싶다는 생각이 들었습니다. 그리고 의사결정트리, 랜덤포레스트, LDA, kNN, SVM을 사용해 보았는데 어떻게 동작하는지 자세히 공부해보고 직접 구현해보고 싶습니다.\n",
    "\n",
    "마지막으로, 비록 제가 한건 없지만 다층 퍼셉트론에서 좋은 정확도가 나와서 나름 성공적인 프로젝트가 된 것같아 기분은 가벼운 것 같습니다. 1학기동안 좋은 강의 해주셔서 즐겁게 공부하였습니다. 감사합니다! 건강 조심하십시오!"
   ]
  }
 ],
 "metadata": {
  "kernelspec": {
   "display_name": "Python 3",
   "language": "python",
   "name": "python3"
  },
  "language_info": {
   "codemirror_mode": {
    "name": "ipython",
    "version": 3
   },
   "file_extension": ".py",
   "mimetype": "text/x-python",
   "name": "python",
   "nbconvert_exporter": "python",
   "pygments_lexer": "ipython3",
   "version": "3.8.5"
  }
 },
 "nbformat": 4,
 "nbformat_minor": 4
}
